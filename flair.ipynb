{
 "cells": [
  {
   "cell_type": "code",
   "execution_count": 54,
   "metadata": {},
   "outputs": [],
   "source": [
    "import os\n",
    "import re\n",
    "import numpy as np\n",
    "import pandas as pd\n",
    "from tqdm import tqdm_notebook as tqdm"
   ]
  },
  {
   "cell_type": "markdown",
   "metadata": {},
   "source": [
    "## Game of Thrones meets Flair"
   ]
  },
  {
   "cell_type": "code",
   "execution_count": 2,
   "metadata": {},
   "outputs": [],
   "source": [
    "with open(\"GoT_script.txt\", 'r') as f:\n",
    "    script = f.read()"
   ]
  },
  {
   "cell_type": "code",
   "execution_count": 3,
   "metadata": {},
   "outputs": [
    {
     "data": {
      "text/plain": [
       "'[First scene opens with three Rangers riding through a tunnel, leaving the Wall, and going into the woods. (Eerie music in background) One Ranger splits off and finds a campsite full of mutilated bodies, including a child hanging from a tree branch. A birds-eye view shows the bodies arranged in a shield-like pattern. The Ranger rides back to the other two.]\\n\\nWAYMAR ROYCE: What dyou expect? Theyre savages. One lot steals a goat from another lot and before you know it, theyre ripping each other to pieces.\\n\\nWILL: Ive never seen wildlings do a thing like this. Ive never seen a thing like this, not ever in my life.\\n\\nWAYMAR ROYCE: How close did you get?\\n\\nWILL: Close as any man would.\\n\\nGARED: We should head back to the wall.\\n\\nROYCE: Do the dead frighten you?\\n\\nGARED: Our orders were to track the wildlings. We tracked them. They wont trouble us no more.\\n\\nROYCE: You dont think hell ask us how they died? Get back on your horse.\\n\\n[GARED grumbles.]\\n\\nWILL: Whatever did it to them could do it to us. '"
      ]
     },
     "execution_count": 3,
     "metadata": {},
     "output_type": "execute_result"
    }
   ],
   "source": [
    "script[:1000]"
   ]
  },
  {
   "cell_type": "code",
   "execution_count": 4,
   "metadata": {},
   "outputs": [],
   "source": [
    "def clean_script(script):\n",
    "    script = script.split('\\n')\n",
    "    #get rid of [scene setters], (parentheticals), and worthless characters talking like 'MAN #2'\n",
    "    script = [line for line in script if re.match('^[A-Z\\s]+\\:', line)!=None]\n",
    "    return script"
   ]
  },
  {
   "cell_type": "code",
   "execution_count": 5,
   "metadata": {},
   "outputs": [],
   "source": [
    "script = clean_script(script)"
   ]
  },
  {
   "cell_type": "code",
   "execution_count": 6,
   "metadata": {},
   "outputs": [
    {
     "data": {
      "text/plain": [
       "['WAYMAR ROYCE: What dyou expect? Theyre savages. One lot steals a goat from another lot and before you know it, theyre ripping each other to pieces.',\n",
       " 'WILL: Ive never seen wildlings do a thing like this. Ive never seen a thing like this, not ever in my life.',\n",
       " 'WAYMAR ROYCE: How close did you get?',\n",
       " 'WILL: Close as any man would.',\n",
       " 'GARED: We should head back to the wall.']"
      ]
     },
     "execution_count": 6,
     "metadata": {},
     "output_type": "execute_result"
    }
   ],
   "source": [
    "script[:5]"
   ]
  },
  {
   "cell_type": "code",
   "execution_count": 7,
   "metadata": {},
   "outputs": [
    {
     "name": "stdout",
     "output_type": "stream",
     "text": [
      "# of lines in script:  11806\n",
      "# of words in corpus:  139477\n",
      "# of unique characters:  375\n"
     ]
    }
   ],
   "source": [
    "print('# of lines in script: ', len(script))\n",
    "print('# of words in corpus: ', len(\" \".join([line.split(':')[1] for line in script]).split()))\n",
    "print('# of unique characters: ', len(list(set([line.split(':')[0] for line in script]))))"
   ]
  },
  {
   "cell_type": "code",
   "execution_count": null,
   "metadata": {},
   "outputs": [],
   "source": []
  },
  {
   "cell_type": "markdown",
   "metadata": {},
   "source": [
    "### NER"
   ]
  },
  {
   "cell_type": "markdown",
   "metadata": {},
   "source": [
    "<img src=\"imgs/Titan_of_Braavos.jpg\">"
   ]
  },
  {
   "cell_type": "code",
   "execution_count": 8,
   "metadata": {},
   "outputs": [
    {
     "name": "stdout",
     "output_type": "stream",
     "text": [
      "JAQEN: If the day comes when you must find me again, just give that coin to any man from Braavos and say these words to him, \"Valar Morghulis.\"\n"
     ]
    }
   ],
   "source": [
    "ex = [x for x in script if 'Braavos' in x][2]\n",
    "print(ex)"
   ]
  },
  {
   "cell_type": "code",
   "execution_count": 9,
   "metadata": {},
   "outputs": [
    {
     "name": "stdout",
     "output_type": "stream",
     "text": [
      "Better speed can be achieved with apex installed from https://www.github.com/nvidia/apex.\n",
      "2019-02-24 00:50:03,873 loading file C:\\Users\\nick\\.flair\\models\\en-ner-conll03-v0.4.pt\n"
     ]
    },
    {
     "data": {
      "text/plain": [
       "[Sentence: \"JAQEN: If the day comes when you must find me again, just give that coin to any man from Braavos and say these words to him, \"Valar Morghulis.\"\" - 28 Tokens]"
      ]
     },
     "execution_count": 9,
     "metadata": {},
     "output_type": "execute_result"
    }
   ],
   "source": [
    "from flair.data import Sentence\n",
    "from flair.models import SequenceTagger\n",
    "\n",
    "# make a sentence\n",
    "sentence = Sentence(ex)\n",
    "\n",
    "# load the NER tagger\n",
    "tagger = SequenceTagger.load('ner')\n",
    "\n",
    "# run NER over sentence\n",
    "tagger.predict(sentence)"
   ]
  },
  {
   "cell_type": "code",
   "execution_count": 10,
   "metadata": {},
   "outputs": [
    {
     "name": "stdout",
     "output_type": "stream",
     "text": [
      "LOC-span [20]: \"Braavos\"\n",
      "PER-span [27,28]: \"\"Valar Morghulis.\"\"\n"
     ]
    }
   ],
   "source": [
    "for entity in sentence.get_spans('ner'):\n",
    "    print(entity)"
   ]
  },
  {
   "cell_type": "markdown",
   "metadata": {},
   "source": [
    "### POS Tagging"
   ]
  },
  {
   "cell_type": "code",
   "execution_count": 11,
   "metadata": {},
   "outputs": [
    {
     "name": "stdout",
     "output_type": "stream",
     "text": [
      "2019-02-24 00:50:08,273 loading file C:\\Users\\nick\\.flair\\models\\en-pos-ontonotes-v0.2.pt\n"
     ]
    },
    {
     "data": {
      "text/plain": [
       "[Sentence: \"JAQEN: If the day comes when you must find me again, just give that coin to any man from Braavos and say these words to him, \"Valar Morghulis.\"\" - 28 Tokens]"
      ]
     },
     "execution_count": 11,
     "metadata": {},
     "output_type": "execute_result"
    }
   ],
   "source": [
    "# load the basic POS tagger\n",
    "pos_tagger = SequenceTagger.load('pos')\n",
    "\n",
    "# run POS tagger over sentence (same as ner)\n",
    "pos_tagger.predict(sentence)"
   ]
  },
  {
   "cell_type": "code",
   "execution_count": 12,
   "metadata": {},
   "outputs": [
    {
     "name": "stdout",
     "output_type": "stream",
     "text": [
      "JAQEN: <NNP> If <IN> the <DT> day <NN> comes <VBZ> when <WRB> you <PRP> must <MD> find <VB> me <PRP> again, <IN> just <RB> give <VB> that <DT> coin <NN> to <IN> any <DT> man <NN> from <IN> Braavos <S-LOC/NNP> and <CC> say <VB> these <DT> words <NNS> to <IN> him, <PRP> \"Valar <B-PER/NNP> Morghulis.\" <E-PER/NNP>\n"
     ]
    }
   ],
   "source": [
    "print(sentence.to_tagged_string())"
   ]
  },
  {
   "cell_type": "markdown",
   "metadata": {},
   "source": [
    "### Embeddings"
   ]
  },
  {
   "cell_type": "code",
   "execution_count": 13,
   "metadata": {},
   "outputs": [],
   "source": [
    "from flair.embeddings import StackedEmbeddings, WordEmbeddings, FlairEmbeddings, BertEmbeddings, ELMoEmbeddings"
   ]
  },
  {
   "cell_type": "code",
   "execution_count": 14,
   "metadata": {},
   "outputs": [],
   "source": [
    "# load and concatenate embeddings\n",
    "embeddings = StackedEmbeddings([\n",
    "                                #WordEmbeddings('glove'), \n",
    "                                #FlairEmbeddings('news-forward'), \n",
    "                                #FlairEmbeddings('news-backward'),\n",
    "                                BertEmbeddings('bert-base-cased'), \n",
    "                                #ELMoEmeddings('small')\n",
    "                               ])"
   ]
  },
  {
   "cell_type": "markdown",
   "metadata": {},
   "source": [
    "Word Embeddings"
   ]
  },
  {
   "cell_type": "code",
   "execution_count": 15,
   "metadata": {},
   "outputs": [
    {
     "name": "stdout",
     "output_type": "stream",
     "text": [
      "Token: 1 I\n",
      "tensor([ 0.3647, -0.7599,  0.8395,  ...,  0.7779, -0.2211,  0.7162]) \n",
      "\n",
      "Token: 2 drink\n",
      "tensor([ 0.4605, -0.1452, -0.0958,  ..., -0.3545, -0.3075,  0.4771]) \n",
      "\n",
      "Token: 3 and\n",
      "tensor([ 0.6379, -0.5159, -0.3396,  ..., -0.3434, -0.4052, -0.6125]) \n",
      "\n",
      "Token: 4 I\n",
      "tensor([ 0.5343, -0.9951,  0.5720,  ...,  1.1661, -0.3379,  0.2322]) \n",
      "\n",
      "Token: 5 know\n",
      "tensor([ 0.8331, -0.4658, -0.1732,  ...,  0.2154, -0.7959,  0.4447]) \n",
      "\n",
      "Token: 6 things.\n",
      "tensor([ 0.2392, -0.0800,  0.4743,  ..., -0.3976, -0.7713,  0.2037]) \n",
      "\n"
     ]
    }
   ],
   "source": [
    "ex = \"I drink and I know things.\"\n",
    "\n",
    "sentence = Sentence(ex)\n",
    "\n",
    "# just embed a sentence using the StackedEmbedding as you would with any single embedding.\n",
    "embeddings.embed(sentence)\n",
    "\n",
    "# now check out the embedded tokens.\n",
    "for token in sentence:\n",
    "    print(token)\n",
    "    print(token.embedding, '\\n')"
   ]
  },
  {
   "cell_type": "code",
   "execution_count": 16,
   "metadata": {},
   "outputs": [
    {
     "name": "stdout",
     "output_type": "stream",
     "text": [
      "Similarity between  'I'  and  'drink'  : 0.52 \n",
      "\n",
      "Similarity between  'I'  and  'and'  : 0.57 \n",
      "\n",
      "Similarity between  'I'  and  'I'  : 0.87 \n",
      "\n",
      "Similarity between  'I'  and  'know'  : 0.51 \n",
      "\n",
      "Similarity between  'I'  and  'things.'  : 0.49 \n",
      "\n"
     ]
    }
   ],
   "source": [
    "from torch.nn import functional as F\n",
    "\n",
    "# see which is most similar to the first 'I'\n",
    "compare_word = sentence[0]\n",
    "\n",
    "for word, token in zip(ex.split()[1:], sentence[1:]):\n",
    "    print(\"Similarity between  'I'  and  '{}'  : {:0.2f}\".format(\\\n",
    "           word, F.cosine_similarity(compare_word.embedding, token.embedding, dim=0)), '\\n')"
   ]
  },
  {
   "cell_type": "markdown",
   "metadata": {},
   "source": [
    "Document Embeddings<br>\n",
    "1. we'll consider each corpus of a character's line as a document\n",
    "2. then check similarity"
   ]
  },
  {
   "cell_type": "code",
   "execution_count": 17,
   "metadata": {},
   "outputs": [],
   "source": [
    "documents={}\n",
    "\n",
    "#instantiate characters 'documents'\n",
    "characters = list(set([line.split(':')[0] for line in script]))\n",
    "for char in characters:\n",
    "    documents[char] = ''\n",
    "\n",
    "for line in script:\n",
    "    char, dialogue = line.split(':', 1) #only want first split\n",
    "    documents[char] += dialogue"
   ]
  },
  {
   "cell_type": "code",
   "execution_count": 18,
   "metadata": {},
   "outputs": [],
   "source": [
    "assert len(documents) == len(characters)"
   ]
  },
  {
   "cell_type": "code",
   "execution_count": 19,
   "metadata": {},
   "outputs": [
    {
     "data": {
      "text/plain": [
       "' Mmh. It is true what they say about the Northern girls. I did hear something about that. And the ot'"
      ]
     },
     "execution_count": 19,
     "metadata": {},
     "output_type": "execute_result"
    }
   ],
   "source": [
    "documents['TYRION'][:100]"
   ]
  },
  {
   "cell_type": "markdown",
   "metadata": {},
   "source": [
    "Get Document Embeddings\n",
    "* can either Pool ('mean', 'min', or 'max' word embeddings)\n",
    "* OR RNN (pass through word embeddings to another RNN layer)"
   ]
  },
  {
   "cell_type": "code",
   "execution_count": 20,
   "metadata": {},
   "outputs": [],
   "source": [
    "from flair.embeddings import DocumentPoolEmbeddings\n",
    "\n",
    "# initialize the word embeddings\n",
    "glove_embedding = WordEmbeddings('glove')\n",
    "flair_embedding_forward = FlairEmbeddings('news-forward')\n",
    "flair_embedding_backward = FlairEmbeddings('news-backward')\n",
    "\n",
    "doc_embeddings = DocumentPoolEmbeddings([#glove_embedding,\n",
    "                                         flair_embedding_backward,\n",
    "                                         flair_embedding_forward],\n",
    "                                        mode = 'mean')"
   ]
  },
  {
   "cell_type": "code",
   "execution_count": 21,
   "metadata": {},
   "outputs": [
    {
     "data": {
      "application/vnd.jupyter.widget-view+json": {
       "model_id": "d9ee78b22a3946efa09b2fe233cd84e0",
       "version_major": 2,
       "version_minor": 0
      },
      "text/plain": [
       "HBox(children=(IntProgress(value=0, max=375), HTML(value='')))"
      ]
     },
     "metadata": {},
     "output_type": "display_data"
    },
    {
     "name": "stdout",
     "output_type": "stream",
     "text": [
      "\n"
     ]
    }
   ],
   "source": [
    "char_embeddings = {}\n",
    "for char in tqdm(characters):\n",
    "    # get the corpus for character (we're referring to as document)\n",
    "    char_lines = documents[char]\n",
    "    #intialize for flair\n",
    "    char_lines = Sentence(char_lines)\n",
    "    #embed\n",
    "    doc_embeddings.embed(char_lines)\n",
    "    embedded_char_lines = char_lines.get_embedding()\n",
    "    \n",
    "    #transform to numpy so we can play with it\n",
    "    embedded_char_lines = embedded_char_lines.data.numpy()\n",
    "    \n",
    "    char_embeddings[char] = embedded_char_lines"
   ]
  },
  {
   "cell_type": "code",
   "execution_count": 22,
   "metadata": {},
   "outputs": [
    {
     "data": {
      "text/plain": [
       "(4096,)"
      ]
     },
     "execution_count": 22,
     "metadata": {},
     "output_type": "execute_result"
    }
   ],
   "source": [
    "char_embeddings['TYRION'].shape"
   ]
  },
  {
   "cell_type": "code",
   "execution_count": 93,
   "metadata": {},
   "outputs": [
    {
     "name": "stdout",
     "output_type": "stream",
     "text": [
      "Most Similar Characters to TYRION:\n",
      "\n"
     ]
    },
    {
     "data": {
      "text/html": [
       "<div>\n",
       "<style scoped>\n",
       "    .dataframe tbody tr th:only-of-type {\n",
       "        vertical-align: middle;\n",
       "    }\n",
       "\n",
       "    .dataframe tbody tr th {\n",
       "        vertical-align: top;\n",
       "    }\n",
       "\n",
       "    .dataframe thead th {\n",
       "        text-align: right;\n",
       "    }\n",
       "</style>\n",
       "<table border=\"1\" class=\"dataframe\">\n",
       "  <thead>\n",
       "    <tr style=\"text-align: right;\">\n",
       "      <th></th>\n",
       "      <th>Character</th>\n",
       "      <th>Cosine_Similarity</th>\n",
       "    </tr>\n",
       "  </thead>\n",
       "  <tbody>\n",
       "    <tr>\n",
       "      <th>0</th>\n",
       "      <td>CERSEI</td>\n",
       "      <td>0.998411</td>\n",
       "    </tr>\n",
       "    <tr>\n",
       "      <th>1</th>\n",
       "      <td>JAIME</td>\n",
       "      <td>0.997206</td>\n",
       "    </tr>\n",
       "    <tr>\n",
       "      <th>2</th>\n",
       "      <td>LITTLEFINGER</td>\n",
       "      <td>0.995935</td>\n",
       "    </tr>\n",
       "    <tr>\n",
       "      <th>3</th>\n",
       "      <td>OLENNA</td>\n",
       "      <td>0.995551</td>\n",
       "    </tr>\n",
       "    <tr>\n",
       "      <th>4</th>\n",
       "      <td>BRIENNE</td>\n",
       "      <td>0.994879</td>\n",
       "    </tr>\n",
       "  </tbody>\n",
       "</table>\n",
       "</div>"
      ],
      "text/plain": [
       "      Character  Cosine_Similarity\n",
       "0        CERSEI           0.998411\n",
       "1         JAIME           0.997206\n",
       "2  LITTLEFINGER           0.995935\n",
       "3        OLENNA           0.995551\n",
       "4       BRIENNE           0.994879"
      ]
     },
     "execution_count": 93,
     "metadata": {},
     "output_type": "execute_result"
    }
   ],
   "source": [
    "def cosine_similarity(vA, vB):\n",
    "    return np.dot(vA, vB) / (np.linalg.norm(vA) * np.linalg.norm(vB))\n",
    "\n",
    "def most_similar_chars(char, N=5):\n",
    "    similar_chars = pd.DataFrame(columns=['Character', 'Cosine_Similarity'])\n",
    "    for other_char, embedding in char_embeddings.items():\n",
    "        if other_char != char:\n",
    "            similarity = cosine_similarity(char_embeddings[char], char_embeddings[other_char])\n",
    "            similar_chars = similar_chars.append({'Character': other_char, 'Cosine_Similarity': similarity}, ignore_index=True)\n",
    "    print('Most Similar Characters to {}:\\n'.format(char))\n",
    "    return similar_chars.sort_values(by='Cosine_Similarity', ascending=False).head(n=N).reset_index(drop=True)\n",
    "    \n",
    "most_similar_chars('TYRION', N=5)"
   ]
  },
  {
   "cell_type": "markdown",
   "metadata": {},
   "source": [
    "TSNE Visualization"
   ]
  },
  {
   "cell_type": "code",
   "execution_count": 47,
   "metadata": {},
   "outputs": [],
   "source": [
    "from sklearn.manifold import TSNE\n",
    "tsne = TSNE(n_components=2, n_iter=1000)\n",
    "tsne_result = tsne.fit_transform(pd.DataFrame(char_embeddings).T)"
   ]
  },
  {
   "cell_type": "code",
   "execution_count": 102,
   "metadata": {},
   "outputs": [
    {
     "name": "stdout",
     "output_type": "stream",
     "text": [
      "(375, 3)\n"
     ]
    },
    {
     "data": {
      "text/html": [
       "<div>\n",
       "<style scoped>\n",
       "    .dataframe tbody tr th:only-of-type {\n",
       "        vertical-align: middle;\n",
       "    }\n",
       "\n",
       "    .dataframe tbody tr th {\n",
       "        vertical-align: top;\n",
       "    }\n",
       "\n",
       "    .dataframe thead th {\n",
       "        text-align: right;\n",
       "    }\n",
       "</style>\n",
       "<table border=\"1\" class=\"dataframe\">\n",
       "  <thead>\n",
       "    <tr style=\"text-align: right;\">\n",
       "      <th></th>\n",
       "      <th>x</th>\n",
       "      <th>y</th>\n",
       "      <th>char_name</th>\n",
       "    </tr>\n",
       "  </thead>\n",
       "  <tbody>\n",
       "    <tr>\n",
       "      <th>0</th>\n",
       "      <td>3.320947</td>\n",
       "      <td>-1.171026</td>\n",
       "      <td>LORD MORMONT</td>\n",
       "    </tr>\n",
       "    <tr>\n",
       "      <th>1</th>\n",
       "      <td>2.076870</td>\n",
       "      <td>-2.836047</td>\n",
       "      <td>PROTESTER</td>\n",
       "    </tr>\n",
       "    <tr>\n",
       "      <th>2</th>\n",
       "      <td>-0.816712</td>\n",
       "      <td>-3.576952</td>\n",
       "      <td>CRESSEN</td>\n",
       "    </tr>\n",
       "    <tr>\n",
       "      <th>3</th>\n",
       "      <td>-7.633727</td>\n",
       "      <td>1.440769</td>\n",
       "      <td>MYRCELLA</td>\n",
       "    </tr>\n",
       "    <tr>\n",
       "      <th>4</th>\n",
       "      <td>-0.253823</td>\n",
       "      <td>-5.430227</td>\n",
       "      <td>FARMER HAMLET</td>\n",
       "    </tr>\n",
       "  </tbody>\n",
       "</table>\n",
       "</div>"
      ],
      "text/plain": [
       "          x         y      char_name\n",
       "0  3.320947 -1.171026   LORD MORMONT\n",
       "1  2.076870 -2.836047      PROTESTER\n",
       "2 -0.816712 -3.576952        CRESSEN\n",
       "3 -7.633727  1.440769       MYRCELLA\n",
       "4 -0.253823 -5.430227  FARMER HAMLET"
      ]
     },
     "execution_count": 102,
     "metadata": {},
     "output_type": "execute_result"
    }
   ],
   "source": [
    "df_plot = pd.DataFrame(tsne_result, columns=['x', 'y'])\n",
    "df_plot['char_name'] = char_embeddings.keys()\n",
    "\n",
    "print(df_plot.shape)\n",
    "df_plot.head()"
   ]
  },
  {
   "cell_type": "code",
   "execution_count": 103,
   "metadata": {},
   "outputs": [
    {
     "name": "stdout",
     "output_type": "stream",
     "text": [
      "HBO has pictures for 83 characters\n"
     ]
    },
    {
     "data": {
      "text/plain": [
       "['alliser-thorne.jpg',\n",
       " 'archmaester-ebrose.jpg',\n",
       " 'arya-stark.jpg',\n",
       " 'balon-greyjoy.jpg',\n",
       " 'barristan-selmy.jpg']"
      ]
     },
     "execution_count": 103,
     "metadata": {},
     "output_type": "execute_result"
    }
   ],
   "source": [
    "char_imgs = [img_file for img_file in os.listdir(os.path.join('imgs', 'char_imgs')) if img_file.endswith('.jpg')]\n",
    "print('HBO has pictures for {} characters'.format(len(char_imgs)))\n",
    "char_imgs[:5]"
   ]
  },
  {
   "cell_type": "code",
   "execution_count": 104,
   "metadata": {},
   "outputs": [],
   "source": [
    "missed_names = {'GRAND MAESTER PYRCELLE':'grand-maester-pycelle.jpg', 'NED':'eddard-ned-stark.jpg', \n",
    "                'PRIESTESS':'high-priestess.jpg', 'BLACKFISH':'brynden-the-blackfish-tully.jpg'}\n",
    "\n",
    "df_plot['img_path'] = ''\n",
    "for index, row in df_plot.iterrows():\n",
    "    if row['char_name'] in missed_names.keys():\n",
    "        df_plot.at[index, 'img_path'] = missed_names[row['char_name']]\n",
    "    for img in char_imgs:\n",
    "        clean_img = img.replace('.jpg', '').replace('-', ' ').upper()\n",
    "        if (row['char_name'] == clean_img or row['char_name'] == clean_img.split()[0]):\n",
    "            df_plot.at[index, 'img_path'] = img"
   ]
  },
  {
   "cell_type": "code",
   "execution_count": 105,
   "metadata": {},
   "outputs": [
    {
     "name": "stdout",
     "output_type": "stream",
     "text": [
      "(85, 4)\n"
     ]
    },
    {
     "data": {
      "text/html": [
       "<div>\n",
       "<style scoped>\n",
       "    .dataframe tbody tr th:only-of-type {\n",
       "        vertical-align: middle;\n",
       "    }\n",
       "\n",
       "    .dataframe tbody tr th {\n",
       "        vertical-align: top;\n",
       "    }\n",
       "\n",
       "    .dataframe thead th {\n",
       "        text-align: right;\n",
       "    }\n",
       "</style>\n",
       "<table border=\"1\" class=\"dataframe\">\n",
       "  <thead>\n",
       "    <tr style=\"text-align: right;\">\n",
       "      <th></th>\n",
       "      <th>x</th>\n",
       "      <th>y</th>\n",
       "      <th>char_name</th>\n",
       "      <th>img_path</th>\n",
       "    </tr>\n",
       "  </thead>\n",
       "  <tbody>\n",
       "    <tr>\n",
       "      <th>0</th>\n",
       "      <td>-7.633727</td>\n",
       "      <td>1.440769</td>\n",
       "      <td>MYRCELLA</td>\n",
       "      <td>myrcella-baratheon.jpg</td>\n",
       "    </tr>\n",
       "    <tr>\n",
       "      <th>1</th>\n",
       "      <td>-2.424271</td>\n",
       "      <td>-0.583655</td>\n",
       "      <td>RENLY</td>\n",
       "      <td>renly-baratheon.jpg</td>\n",
       "    </tr>\n",
       "    <tr>\n",
       "      <th>2</th>\n",
       "      <td>3.823956</td>\n",
       "      <td>-4.120924</td>\n",
       "      <td>BARRISTAN</td>\n",
       "      <td>barristan-selmy.jpg</td>\n",
       "    </tr>\n",
       "    <tr>\n",
       "      <th>3</th>\n",
       "      <td>-6.401622</td>\n",
       "      <td>-5.000396</td>\n",
       "      <td>ORELL</td>\n",
       "      <td>orell.jpg</td>\n",
       "    </tr>\n",
       "    <tr>\n",
       "      <th>4</th>\n",
       "      <td>-0.270835</td>\n",
       "      <td>-2.012497</td>\n",
       "      <td>JORAH</td>\n",
       "      <td>jorah-mormont.jpg</td>\n",
       "    </tr>\n",
       "  </tbody>\n",
       "</table>\n",
       "</div>"
      ],
      "text/plain": [
       "          x         y  char_name                img_path\n",
       "0 -7.633727  1.440769   MYRCELLA  myrcella-baratheon.jpg\n",
       "1 -2.424271 -0.583655      RENLY     renly-baratheon.jpg\n",
       "2  3.823956 -4.120924  BARRISTAN     barristan-selmy.jpg\n",
       "3 -6.401622 -5.000396      ORELL               orell.jpg\n",
       "4 -0.270835 -2.012497      JORAH       jorah-mormont.jpg"
      ]
     },
     "execution_count": 105,
     "metadata": {},
     "output_type": "execute_result"
    }
   ],
   "source": [
    "df_plot = df_plot[df_plot['img_path']!=''].reset_index(drop=True)\n",
    "print(df_plot.shape)\n",
    "df_plot.head()"
   ]
  },
  {
   "cell_type": "code",
   "execution_count": 149,
   "metadata": {},
   "outputs": [],
   "source": [
    "img_json = {'images':[]}\n",
    "for _, row in df_plot.iterrows():\n",
    "    img_json['images'].append({\n",
    "        \"source\": os.path.join('imgs', 'char_imgs', row['img_path']),\n",
    "        \"xref\": \"x\",\n",
    "        \"yref\": \"y\",\n",
    "        \"x\": row['x'],\n",
    "        \"y\": row['y'],\n",
    "        \"sizex\": 1.0,\n",
    "        \"sizey\": 1.0,\n",
    "        \"opacity\": 1,\n",
    "        \"xanchor\": \"center\",\n",
    "        \"yanchor\": \"middle\"\n",
    "      })"
   ]
  },
  {
   "cell_type": "code",
   "execution_count": 119,
   "metadata": {},
   "outputs": [
    {
     "data": {
      "text/plain": [
       "[-8, -7, -6, -5, -4, -3, -2, -1, 0, 1, 2, 3, 4, 5, 6, 7, 8, 9, 10]"
      ]
     },
     "execution_count": 119,
     "metadata": {},
     "output_type": "execute_result"
    }
   ],
   "source": [
    "list(range(math.floor(df_plot['x'].min()),math.ceil(df_plot['x'].max())))"
   ]
  },
  {
   "cell_type": "code",
   "execution_count": 151,
   "metadata": {},
   "outputs": [
    {
     "data": {
      "text/html": [
       "<script type=\"text/javascript\">window.PlotlyConfig = {MathJaxConfig: 'local'};</script><script type=\"text/javascript\">if (window.MathJax) {MathJax.Hub.Config({SVG: {font: \"STIX-Web\"}});}</script><script>requirejs.config({paths: { 'plotly': ['https://cdn.plot.ly/plotly-latest.min']},});if(!window._Plotly) {require(['plotly'],function(plotly) {window._Plotly=plotly;});}</script>"
      ],
      "text/vnd.plotly.v1+html": [
       "<script type=\"text/javascript\">window.PlotlyConfig = {MathJaxConfig: 'local'};</script><script type=\"text/javascript\">if (window.MathJax) {MathJax.Hub.Config({SVG: {font: \"STIX-Web\"}});}</script><script>requirejs.config({paths: { 'plotly': ['https://cdn.plot.ly/plotly-latest.min']},});if(!window._Plotly) {require(['plotly'],function(plotly) {window._Plotly=plotly;});}</script>"
      ]
     },
     "metadata": {},
     "output_type": "display_data"
    },
    {
     "data": {
      "application/vnd.plotly.v1+json": {
       "config": {
        "linkText": "Export to plot.ly",
        "plotlyServerURL": "https://plot.ly",
        "showLink": false
       },
       "data": [
        {
         "mode": "markers",
         "type": "scatter",
         "uid": "58f57572-d67c-4ec3-b993-0a9183d7a6dc",
         "x": [
          -7.633727073669434,
          -2.4242706298828125,
          3.8239564895629883,
          -6.4016218185424805,
          -0.2708345651626587,
          -6.484641075134277,
          -3.8914151191711426,
          -1.6900444030761719,
          -2.7607405185699463,
          -0.7995768189430237,
          0.9406121969223022,
          -7.159946441650391,
          -1.630205750465393,
          -4.264538764953613,
          -3.1377170085906982,
          -2.2479732036590576,
          3.732759714126587,
          -7.155001640319824,
          -3.1868221759796143,
          -2.3393943309783936,
          -3.3046202659606934,
          -0.43352219462394714,
          -5.499881267547607,
          -1.5016449689865112,
          -5.885802268981934,
          -1.04036545753479,
          1.2423349618911743,
          -1.9820226430892944,
          -1.0579720735549927,
          -5.2451982498168945,
          -0.5427255034446716,
          -5.354154586791992,
          -4.929896354675293,
          -2.6061785221099854,
          8.54537582397461,
          6.598978519439697,
          -6.721913814544678,
          2.0097272396087646,
          -0.5795312523841858,
          2.598963737487793,
          -6.762399673461914,
          -1.2721847295761108,
          -5.002882957458496,
          2.3568758964538574,
          3.954745292663574,
          -3.534278392791748,
          -5.020245552062988,
          -5.591333866119385,
          -5.7932820320129395,
          -3.220519781112671,
          -3.3965909481048584,
          -6.482147693634033,
          -0.4864964187145233,
          -2.9515271186828613,
          1.0505985021591187,
          0.47805464267730713,
          -2.866143226623535,
          1.894310712814331,
          -3.509157180786133,
          -5.663097381591797,
          -5.282863140106201,
          -3.08259654045105,
          -1.8674840927124023,
          -3.102238178253174,
          -0.014065171591937542,
          -2.94966721534729,
          -3.610578775405884,
          -3.8897736072540283,
          -3.251384973526001,
          -3.5437560081481934,
          2.9504709243774414,
          9.024402618408203,
          -0.813981294631958,
          -3.605534315109253,
          -4.410970687866211,
          -3.1242010593414307,
          -1.0621812343597412,
          3.203162431716919,
          10.959015846252441,
          1.092948317527771,
          -2.2246294021606445,
          -1.0395334959030151,
          -6.716004371643066,
          -5.109919548034668,
          -2.8110404014587402
         ],
         "y": [
          1.4407685995101929,
          -0.583654522895813,
          -4.120924472808838,
          -5.000395774841309,
          -2.0124974250793457,
          -4.898825645446777,
          -4.695017337799072,
          -1.862987995147705,
          -2.1510121822357178,
          -3.6382839679718018,
          0.06042557209730148,
          -2.911273717880249,
          -2.7428367137908936,
          0.1040303036570549,
          -1.8764272928237915,
          2.801751136779785,
          9.89217758178711,
          -0.9398432374000549,
          1.1890807151794434,
          -0.2143496572971344,
          0.20595115423202515,
          -2.0363872051239014,
          2.018028736114502,
          -0.5742637515068054,
          1.614309310913086,
          1.072152853012085,
          -2.803046941757202,
          0.28880083560943604,
          1.9175076484680176,
          -2.7698562145233154,
          0.147594153881073,
          -0.37053242325782776,
          -2.0892348289489746,
          0.6522921323776245,
          3.4646193981170654,
          -3.0789804458618164,
          -0.412014901638031,
          -1.215152382850647,
          -1.1381134986877441,
          -0.5716732740402222,
          2.2384755611419678,
          -0.12869547307491302,
          -1.2900890111923218,
          -7.368907451629639,
          -0.2637479901313782,
          -1.5158298015594482,
          3.64255952835083,
          0.6588624119758606,
          0.3107645511627197,
          6.261818885803223,
          -0.2070152759552002,
          0.8836905360221863,
          -2.103241205215454,
          4.784773826599121,
          -2.647441864013672,
          -6.736980438232422,
          2.0166985988616943,
          -2.2532742023468018,
          1.1700522899627686,
          0.4451220631599426,
          1.8655327558517456,
          0.8608977198600769,
          1.9150402545928955,
          -0.9922606348991394,
          -3.4875833988189697,
          3.150498628616333,
          3.4061827659606934,
          -0.4465641379356384,
          -1.0183749198913574,
          2.86737060546875,
          -2.386103391647339,
          1.9331265687942505,
          -1.2513949871063232,
          -1.1173341274261475,
          0.5878309011459351,
          -0.6337258219718933,
          -2.8698015213012695,
          -3.671048164367676,
          -1.4816690683364868,
          -5.112213611602783,
          -0.6967365145683289,
          4.100358963012695,
          2.555835247039795,
          0.9281543493270874,
          -0.8050118684768677
         ]
        }
       ],
       "layout": {
        "images": [
         {
          "opacity": 1,
          "sizex": 1,
          "sizey": 1,
          "source": "imgs\\char_imgs\\myrcella-baratheon.jpg",
          "x": -7.633727073669434,
          "xanchor": "center",
          "xref": "x",
          "y": 1.4407685995101929,
          "yanchor": "middle",
          "yref": "y"
         },
         {
          "opacity": 1,
          "sizex": 1,
          "sizey": 1,
          "source": "imgs\\char_imgs\\renly-baratheon.jpg",
          "x": -2.4242706298828125,
          "xanchor": "center",
          "xref": "x",
          "y": -0.583654522895813,
          "yanchor": "middle",
          "yref": "y"
         },
         {
          "opacity": 1,
          "sizex": 1,
          "sizey": 1,
          "source": "imgs\\char_imgs\\barristan-selmy.jpg",
          "x": 3.8239564895629883,
          "xanchor": "center",
          "xref": "x",
          "y": -4.120924472808838,
          "yanchor": "middle",
          "yref": "y"
         },
         {
          "opacity": 1,
          "sizex": 1,
          "sizey": 1,
          "source": "imgs\\char_imgs\\orell.jpg",
          "x": -6.4016218185424805,
          "xanchor": "center",
          "xref": "x",
          "y": -5.000395774841309,
          "yanchor": "middle",
          "yref": "y"
         },
         {
          "opacity": 1,
          "sizex": 1,
          "sizey": 1,
          "source": "imgs\\char_imgs\\jorah-mormont.jpg",
          "x": -0.2708345651626587,
          "xanchor": "center",
          "xref": "x",
          "y": -2.0124974250793457,
          "yanchor": "middle",
          "yref": "y"
         },
         {
          "opacity": 1,
          "sizex": 1,
          "sizey": 1,
          "source": "imgs\\char_imgs\\maester-luwin.jpg",
          "x": -6.484641075134277,
          "xanchor": "center",
          "xref": "x",
          "y": -4.898825645446777,
          "yanchor": "middle",
          "yref": "y"
         },
         {
          "opacity": 1,
          "sizex": 1,
          "sizey": 1,
          "source": "imgs\\char_imgs\\grand-maester-pycelle.jpg",
          "x": -3.8914151191711426,
          "xanchor": "center",
          "xref": "x",
          "y": -4.695017337799072,
          "yanchor": "middle",
          "yref": "y"
         },
         {
          "opacity": 1,
          "sizex": 1,
          "sizey": 1,
          "source": "imgs\\char_imgs\\randyll-tarly.jpg",
          "x": -1.6900444030761719,
          "xanchor": "center",
          "xref": "x",
          "y": -1.862987995147705,
          "yanchor": "middle",
          "yref": "y"
         },
         {
          "opacity": 1,
          "sizex": 1,
          "sizey": 1,
          "source": "imgs\\char_imgs\\robb-stark.jpg",
          "x": -2.7607405185699463,
          "xanchor": "center",
          "xref": "x",
          "y": -2.1510121822357178,
          "yanchor": "middle",
          "yref": "y"
         },
         {
          "opacity": 1,
          "sizex": 1,
          "sizey": 1,
          "source": "imgs\\char_imgs\\high-sparrow.jpg",
          "x": -0.7995768189430237,
          "xanchor": "center",
          "xref": "x",
          "y": -3.6382839679718018,
          "yanchor": "middle",
          "yref": "y"
         },
         {
          "opacity": 1,
          "sizex": 1,
          "sizey": 1,
          "source": "imgs\\char_imgs\\jaqen-hghar.jpg",
          "x": 0.9406121969223022,
          "xanchor": "center",
          "xref": "x",
          "y": 0.06042557209730148,
          "yanchor": "middle",
          "yref": "y"
         },
         {
          "opacity": 1,
          "sizex": 1,
          "sizey": 1,
          "source": "imgs\\char_imgs\\beric-dondarrion.jpg",
          "x": -7.159946441650391,
          "xanchor": "center",
          "xref": "x",
          "y": -2.911273717880249,
          "yanchor": "middle",
          "yref": "y"
         },
         {
          "opacity": 1,
          "sizex": 1,
          "sizey": 1,
          "source": "imgs\\char_imgs\\daario-naharis.jpg",
          "x": -1.630205750465393,
          "xanchor": "center",
          "xref": "x",
          "y": -2.7428367137908936,
          "yanchor": "middle",
          "yref": "y"
         },
         {
          "opacity": 1,
          "sizex": 1,
          "sizey": 1,
          "source": "imgs\\char_imgs\\lysa-arryn.jpg",
          "x": -4.264538764953613,
          "xanchor": "center",
          "xref": "x",
          "y": 0.1040303036570549,
          "yanchor": "middle",
          "yref": "y"
         },
         {
          "opacity": 1,
          "sizex": 1,
          "sizey": 1,
          "source": "imgs\\char_imgs\\loras-tyrell.jpg",
          "x": -3.1377170085906982,
          "xanchor": "center",
          "xref": "x",
          "y": -1.8764272928237915,
          "yanchor": "middle",
          "yref": "y"
         },
         {
          "opacity": 1,
          "sizex": 1,
          "sizey": 1,
          "source": "imgs\\char_imgs\\osha.jpg",
          "x": -2.2479732036590576,
          "xanchor": "center",
          "xref": "x",
          "y": 2.801751136779785,
          "yanchor": "middle",
          "yref": "y"
         },
         {
          "opacity": 1,
          "sizex": 1,
          "sizey": 1,
          "source": "imgs\\char_imgs\\khal-drogo.jpg",
          "x": 3.732759714126587,
          "xanchor": "center",
          "xref": "x",
          "y": 9.89217758178711,
          "yanchor": "middle",
          "yref": "y"
         },
         {
          "opacity": 1,
          "sizex": 1,
          "sizey": 1,
          "source": "imgs\\char_imgs\\mance-rayder.jpg",
          "x": -7.155001640319824,
          "xanchor": "center",
          "xref": "x",
          "y": -0.9398432374000549,
          "yanchor": "middle",
          "yref": "y"
         },
         {
          "opacity": 1,
          "sizex": 1,
          "sizey": 1,
          "source": "imgs\\char_imgs\\bran-stark.jpg",
          "x": -3.1868221759796143,
          "xanchor": "center",
          "xref": "x",
          "y": 1.1890807151794434,
          "yanchor": "middle",
          "yref": "y"
         },
         {
          "opacity": 1,
          "sizex": 1,
          "sizey": 1,
          "source": "imgs\\char_imgs\\jon-snow.jpg",
          "x": -2.3393943309783936,
          "xanchor": "center",
          "xref": "x",
          "y": -0.2143496572971344,
          "yanchor": "middle",
          "yref": "y"
         },
         {
          "opacity": 1,
          "sizex": 1,
          "sizey": 1,
          "source": "imgs\\char_imgs\\jaime-lannister.jpg",
          "x": -3.3046202659606934,
          "xanchor": "center",
          "xref": "x",
          "y": 0.20595115423202515,
          "yanchor": "middle",
          "yref": "y"
         },
         {
          "opacity": 1,
          "sizex": 1,
          "sizey": 1,
          "source": "imgs\\char_imgs\\davos-seaworth.jpg",
          "x": -0.43352219462394714,
          "xanchor": "center",
          "xref": "x",
          "y": -2.0363872051239014,
          "yanchor": "middle",
          "yref": "y"
         },
         {
          "opacity": 1,
          "sizex": 1,
          "sizey": 1,
          "source": "imgs\\char_imgs\\thoros-of-myr.jpg",
          "x": -5.499881267547607,
          "xanchor": "center",
          "xref": "x",
          "y": 2.018028736114502,
          "yanchor": "middle",
          "yref": "y"
         },
         {
          "opacity": 1,
          "sizex": 1,
          "sizey": 1,
          "source": "imgs\\char_imgs\\stannis-baratheon.jpg",
          "x": -1.5016449689865112,
          "xanchor": "center",
          "xref": "x",
          "y": -0.5742637515068054,
          "yanchor": "middle",
          "yref": "y"
         },
         {
          "opacity": 1,
          "sizex": 1,
          "sizey": 1,
          "source": "imgs\\char_imgs\\ros.jpg",
          "x": -5.885802268981934,
          "xanchor": "center",
          "xref": "x",
          "y": 1.614309310913086,
          "yanchor": "middle",
          "yref": "y"
         },
         {
          "opacity": 1,
          "sizex": 1,
          "sizey": 1,
          "source": "imgs\\char_imgs\\joffrey-baratheon.jpg",
          "x": -1.04036545753479,
          "xanchor": "center",
          "xref": "x",
          "y": 1.072152853012085,
          "yanchor": "middle",
          "yref": "y"
         },
         {
          "opacity": 1,
          "sizex": 1,
          "sizey": 1,
          "source": "imgs\\char_imgs\\melisandre.jpg",
          "x": 1.2423349618911743,
          "xanchor": "center",
          "xref": "x",
          "y": -2.803046941757202,
          "yanchor": "middle",
          "yref": "y"
         },
         {
          "opacity": 1,
          "sizex": 1,
          "sizey": 1,
          "source": "imgs\\char_imgs\\ramsay-snow.jpg",
          "x": -1.9820226430892944,
          "xanchor": "center",
          "xref": "x",
          "y": 0.28880083560943604,
          "yanchor": "middle",
          "yref": "y"
         },
         {
          "opacity": 1,
          "sizex": 1,
          "sizey": 1,
          "source": "imgs\\char_imgs\\brynden-the-blackfish-tully.jpg",
          "x": -1.0579720735549927,
          "xanchor": "center",
          "xref": "x",
          "y": 1.9175076484680176,
          "yanchor": "middle",
          "yref": "y"
         },
         {
          "opacity": 1,
          "sizex": 1,
          "sizey": 1,
          "source": "imgs\\char_imgs\\obara-sand.jpg",
          "x": -5.2451982498168945,
          "xanchor": "center",
          "xref": "x",
          "y": -2.7698562145233154,
          "yanchor": "middle",
          "yref": "y"
         },
         {
          "opacity": 1,
          "sizex": 1,
          "sizey": 1,
          "source": "imgs\\char_imgs\\jeor-mormont.jpg",
          "x": -0.5427255034446716,
          "xanchor": "center",
          "xref": "x",
          "y": 0.147594153881073,
          "yanchor": "middle",
          "yref": "y"
         },
         {
          "opacity": 1,
          "sizex": 1,
          "sizey": 1,
          "source": "imgs\\char_imgs\\trystane-martell.jpg",
          "x": -5.354154586791992,
          "xanchor": "center",
          "xref": "x",
          "y": -0.37053242325782776,
          "yanchor": "middle",
          "yref": "y"
         },
         {
          "opacity": 1,
          "sizex": 1,
          "sizey": 1,
          "source": "imgs\\char_imgs\\talisa-stark.jpg",
          "x": -4.929896354675293,
          "xanchor": "center",
          "xref": "x",
          "y": -2.0892348289489746,
          "yanchor": "middle",
          "yref": "y"
         },
         {
          "opacity": 1,
          "sizex": 1,
          "sizey": 1,
          "source": "imgs\\char_imgs\\podrick-payne.jpg",
          "x": -2.6061785221099854,
          "xanchor": "center",
          "xref": "x",
          "y": 0.6522921323776245,
          "yanchor": "middle",
          "yref": "y"
         },
         {
          "opacity": 1,
          "sizex": 1,
          "sizey": 1,
          "source": "imgs\\char_imgs\\barristan-selmy.jpg",
          "x": 8.54537582397461,
          "xanchor": "center",
          "xref": "x",
          "y": 3.4646193981170654,
          "yanchor": "middle",
          "yref": "y"
         },
         {
          "opacity": 1,
          "sizex": 1,
          "sizey": 1,
          "source": "imgs\\char_imgs\\brother-ray.jpg",
          "x": 6.598978519439697,
          "xanchor": "center",
          "xref": "x",
          "y": -3.0789804458618164,
          "yanchor": "middle",
          "yref": "y"
         },
         {
          "opacity": 1,
          "sizex": 1,
          "sizey": 1,
          "source": "imgs\\char_imgs\\jon-snow.jpg",
          "x": -6.721913814544678,
          "xanchor": "center",
          "xref": "x",
          "y": -0.412014901638031,
          "yanchor": "middle",
          "yref": "y"
         },
         {
          "opacity": 1,
          "sizex": 1,
          "sizey": 1,
          "source": "imgs\\char_imgs\\alliser-thorne.jpg",
          "x": 2.0097272396087646,
          "xanchor": "center",
          "xref": "x",
          "y": -1.215152382850647,
          "yanchor": "middle",
          "yref": "y"
         },
         {
          "opacity": 1,
          "sizex": 1,
          "sizey": 1,
          "source": "imgs\\char_imgs\\missandei.jpg",
          "x": -0.5795312523841858,
          "xanchor": "center",
          "xref": "x",
          "y": -1.1381134986877441,
          "yanchor": "middle",
          "yref": "y"
         },
         {
          "opacity": 1,
          "sizex": 1,
          "sizey": 1,
          "source": "imgs\\char_imgs\\balon-greyjoy.jpg",
          "x": 2.598963737487793,
          "xanchor": "center",
          "xref": "x",
          "y": -0.5716732740402222,
          "yanchor": "middle",
          "yref": "y"
         },
         {
          "opacity": 1,
          "sizex": 1,
          "sizey": 1,
          "source": "imgs\\char_imgs\\shae.jpg",
          "x": -6.762399673461914,
          "xanchor": "center",
          "xref": "x",
          "y": 2.2384755611419678,
          "yanchor": "middle",
          "yref": "y"
         },
         {
          "opacity": 1,
          "sizex": 1,
          "sizey": 1,
          "source": "imgs\\char_imgs\\eddard-ned-stark.jpg",
          "x": -1.2721847295761108,
          "xanchor": "center",
          "xref": "x",
          "y": -0.12869547307491302,
          "yanchor": "middle",
          "yref": "y"
         },
         {
          "opacity": 1,
          "sizex": 1,
          "sizey": 1,
          "source": "imgs\\char_imgs\\robin-arryn.jpg",
          "x": -5.002882957458496,
          "xanchor": "center",
          "xref": "x",
          "y": -1.2900890111923218,
          "yanchor": "middle",
          "yref": "y"
         },
         {
          "opacity": 1,
          "sizex": 1,
          "sizey": 1,
          "source": "imgs\\char_imgs\\daario-naharis.jpg",
          "x": 2.3568758964538574,
          "xanchor": "center",
          "xref": "x",
          "y": -7.368907451629639,
          "yanchor": "middle",
          "yref": "y"
         },
         {
          "opacity": 1,
          "sizex": 1,
          "sizey": 1,
          "source": "imgs\\char_imgs\\high-priestess.jpg",
          "x": 3.954745292663574,
          "xanchor": "center",
          "xref": "x",
          "y": -0.2637479901313782,
          "yanchor": "middle",
          "yref": "y"
         },
         {
          "opacity": 1,
          "sizex": 1,
          "sizey": 1,
          "source": "imgs\\char_imgs\\olenna-tyrell.jpg",
          "x": -3.534278392791748,
          "xanchor": "center",
          "xref": "x",
          "y": -1.5158298015594482,
          "yanchor": "middle",
          "yref": "y"
         },
         {
          "opacity": 1,
          "sizex": 1,
          "sizey": 1,
          "source": "imgs\\char_imgs\\sandor-clegane-the-hound.jpg",
          "x": -5.020245552062988,
          "xanchor": "center",
          "xref": "x",
          "y": 3.64255952835083,
          "yanchor": "middle",
          "yref": "y"
         },
         {
          "opacity": 1,
          "sizex": 1,
          "sizey": 1,
          "source": "imgs\\char_imgs\\tommen-baratheon.jpg",
          "x": -5.591333866119385,
          "xanchor": "center",
          "xref": "x",
          "y": 0.6588624119758606,
          "yanchor": "middle",
          "yref": "y"
         },
         {
          "opacity": 1,
          "sizex": 1,
          "sizey": 1,
          "source": "imgs\\char_imgs\\robert-baratheon.jpg",
          "x": -5.7932820320129395,
          "xanchor": "center",
          "xref": "x",
          "y": 0.3107645511627197,
          "yanchor": "middle",
          "yref": "y"
         },
         {
          "opacity": 1,
          "sizex": 1,
          "sizey": 1,
          "source": "imgs\\char_imgs\\euron-greyjoy.jpg",
          "x": -3.220519781112671,
          "xanchor": "center",
          "xref": "x",
          "y": 6.261818885803223,
          "yanchor": "middle",
          "yref": "y"
         },
         {
          "opacity": 1,
          "sizex": 1,
          "sizey": 1,
          "source": "imgs\\char_imgs\\theon-greyjoy.jpg",
          "x": -3.3965909481048584,
          "xanchor": "center",
          "xref": "x",
          "y": -0.2070152759552002,
          "yanchor": "middle",
          "yref": "y"
         },
         {
          "opacity": 1,
          "sizex": 1,
          "sizey": 1,
          "source": "imgs\\char_imgs\\viserys-targaryen.jpg",
          "x": -6.482147693634033,
          "xanchor": "center",
          "xref": "x",
          "y": 0.8836905360221863,
          "yanchor": "middle",
          "yref": "y"
         },
         {
          "opacity": 1,
          "sizex": 1,
          "sizey": 1,
          "source": "imgs\\char_imgs\\tywin-lannister.jpg",
          "x": -0.4864964187145233,
          "xanchor": "center",
          "xref": "x",
          "y": -2.103241205215454,
          "yanchor": "middle",
          "yref": "y"
         },
         {
          "opacity": 1,
          "sizex": 1,
          "sizey": 1,
          "source": "imgs\\char_imgs\\rickon-stark.jpg",
          "x": -2.9515271186828613,
          "xanchor": "center",
          "xref": "x",
          "y": 4.784773826599121,
          "yanchor": "middle",
          "yref": "y"
         },
         {
          "opacity": 1,
          "sizex": 1,
          "sizey": 1,
          "source": "imgs\\char_imgs\\roose-bolton.jpg",
          "x": 1.0505985021591187,
          "xanchor": "center",
          "xref": "x",
          "y": -2.647441864013672,
          "yanchor": "middle",
          "yref": "y"
         },
         {
          "opacity": 1,
          "sizex": 1,
          "sizey": 1,
          "source": "imgs\\char_imgs\\maester-aemon.jpg",
          "x": 0.47805464267730713,
          "xanchor": "center",
          "xref": "x",
          "y": -6.736980438232422,
          "yanchor": "middle",
          "yref": "y"
         },
         {
          "opacity": 1,
          "sizex": 1,
          "sizey": 1,
          "source": "imgs\\char_imgs\\yara-greyjoy.jpg",
          "x": -2.866143226623535,
          "xanchor": "center",
          "xref": "x",
          "y": 2.0166985988616943,
          "yanchor": "middle",
          "yref": "y"
         },
         {
          "opacity": 1,
          "sizex": 1,
          "sizey": 1,
          "source": "imgs\\char_imgs\\qyburn.jpg",
          "x": 1.894310712814331,
          "xanchor": "center",
          "xref": "x",
          "y": -2.2532742023468018,
          "yanchor": "middle",
          "yref": "y"
         },
         {
          "opacity": 1,
          "sizex": 1,
          "sizey": 1,
          "source": "imgs\\char_imgs\\arya-stark.jpg",
          "x": -3.509157180786133,
          "xanchor": "center",
          "xref": "x",
          "y": 1.1700522899627686,
          "yanchor": "middle",
          "yref": "y"
         },
         {
          "opacity": 1,
          "sizex": 1,
          "sizey": 1,
          "source": "imgs\\char_imgs\\sansa-stark.jpg",
          "x": -5.663097381591797,
          "xanchor": "center",
          "xref": "x",
          "y": 0.4451220631599426,
          "yanchor": "middle",
          "yref": "y"
         },
         {
          "opacity": 1,
          "sizex": 1,
          "sizey": 1,
          "source": "imgs\\char_imgs\\ellaria-sand.jpg",
          "x": -5.282863140106201,
          "xanchor": "center",
          "xref": "x",
          "y": 1.8655327558517456,
          "yanchor": "middle",
          "yref": "y"
         },
         {
          "opacity": 1,
          "sizex": 1,
          "sizey": 1,
          "source": "imgs\\char_imgs\\benjen-stark.jpg",
          "x": -3.08259654045105,
          "xanchor": "center",
          "xref": "x",
          "y": 0.8608977198600769,
          "yanchor": "middle",
          "yref": "y"
         },
         {
          "opacity": 1,
          "sizex": 1,
          "sizey": 1,
          "source": "imgs\\char_imgs\\lady-crane.jpg",
          "x": -1.8674840927124023,
          "xanchor": "center",
          "xref": "x",
          "y": 1.9150402545928955,
          "yanchor": "middle",
          "yref": "y"
         },
         {
          "opacity": 1,
          "sizex": 1,
          "sizey": 1,
          "source": "imgs\\char_imgs\\tyrion-lannister.jpg",
          "x": -3.102238178253174,
          "xanchor": "center",
          "xref": "x",
          "y": -0.9922606348991394,
          "yanchor": "middle",
          "yref": "y"
         },
         {
          "opacity": 1,
          "sizex": 1,
          "sizey": 1,
          "source": "imgs\\char_imgs\\doran-martell.jpg",
          "x": -0.014065171591937542,
          "xanchor": "center",
          "xref": "x",
          "y": -3.4875833988189697,
          "yanchor": "middle",
          "yref": "y"
         },
         {
          "opacity": 1,
          "sizex": 1,
          "sizey": 1,
          "source": "imgs\\char_imgs\\bronn.jpg",
          "x": -2.94966721534729,
          "xanchor": "center",
          "xref": "x",
          "y": 3.150498628616333,
          "yanchor": "middle",
          "yref": "y"
         },
         {
          "opacity": 1,
          "sizex": 1,
          "sizey": 1,
          "source": "imgs\\char_imgs\\ygritte.jpg",
          "x": -3.610578775405884,
          "xanchor": "center",
          "xref": "x",
          "y": 3.4061827659606934,
          "yanchor": "middle",
          "yref": "y"
         },
         {
          "opacity": 1,
          "sizex": 1,
          "sizey": 1,
          "source": "imgs\\char_imgs\\brienne-of-tarth.jpg",
          "x": -3.8897736072540283,
          "xanchor": "center",
          "xref": "x",
          "y": -0.4465641379356384,
          "yanchor": "middle",
          "yref": "y"
         },
         {
          "opacity": 1,
          "sizex": 1,
          "sizey": 1,
          "source": "imgs\\char_imgs\\catelyn-stark.jpg",
          "x": -3.251384973526001,
          "xanchor": "center",
          "xref": "x",
          "y": -1.0183749198913574,
          "yanchor": "middle",
          "yref": "y"
         },
         {
          "opacity": 1,
          "sizex": 1,
          "sizey": 1,
          "source": "imgs\\char_imgs\\tormund.jpg",
          "x": -3.5437560081481934,
          "xanchor": "center",
          "xref": "x",
          "y": 2.86737060546875,
          "yanchor": "middle",
          "yref": "y"
         },
         {
          "opacity": 1,
          "sizex": 1,
          "sizey": 1,
          "source": "imgs\\char_imgs\\samwell-tarly.jpg",
          "x": 2.9504709243774414,
          "xanchor": "center",
          "xref": "x",
          "y": -2.386103391647339,
          "yanchor": "middle",
          "yref": "y"
         },
         {
          "opacity": 1,
          "sizex": 1,
          "sizey": 1,
          "source": "imgs\\char_imgs\\lancel-lannister.jpg",
          "x": 9.024402618408203,
          "xanchor": "center",
          "xref": "x",
          "y": 1.9331265687942505,
          "yanchor": "middle",
          "yref": "y"
         },
         {
          "opacity": 1,
          "sizex": 1,
          "sizey": 1,
          "source": "imgs\\char_imgs\\grey-worm.jpg",
          "x": -0.813981294631958,
          "xanchor": "center",
          "xref": "x",
          "y": -1.2513949871063232,
          "yanchor": "middle",
          "yref": "y"
         },
         {
          "opacity": 1,
          "sizex": 1,
          "sizey": 1,
          "source": "imgs\\char_imgs\\oberyn-martell.jpg",
          "x": -3.605534315109253,
          "xanchor": "center",
          "xref": "x",
          "y": -1.1173341274261475,
          "yanchor": "middle",
          "yref": "y"
         },
         {
          "opacity": 1,
          "sizex": 1,
          "sizey": 1,
          "source": "imgs\\char_imgs\\margaery-tyrell.jpg",
          "x": -4.410970687866211,
          "xanchor": "center",
          "xref": "x",
          "y": 0.5878309011459351,
          "yanchor": "middle",
          "yref": "y"
         },
         {
          "opacity": 1,
          "sizex": 1,
          "sizey": 1,
          "source": "imgs\\char_imgs\\cersei-lannister.jpg",
          "x": -3.1242010593414307,
          "xanchor": "center",
          "xref": "x",
          "y": -0.6337258219718933,
          "yanchor": "middle",
          "yref": "y"
         },
         {
          "opacity": 1,
          "sizex": 1,
          "sizey": 1,
          "source": "imgs\\char_imgs\\varys.jpg",
          "x": -1.0621812343597412,
          "xanchor": "center",
          "xref": "x",
          "y": -2.8698015213012695,
          "yanchor": "middle",
          "yref": "y"
         },
         {
          "opacity": 1,
          "sizex": 1,
          "sizey": 1,
          "source": "imgs\\char_imgs\\lancel-lannister.jpg",
          "x": 3.203162431716919,
          "xanchor": "center",
          "xref": "x",
          "y": -3.671048164367676,
          "yanchor": "middle",
          "yref": "y"
         },
         {
          "opacity": 1,
          "sizex": 1,
          "sizey": 1,
          "source": "imgs\\char_imgs\\hodor.jpg",
          "x": 10.959015846252441,
          "xanchor": "center",
          "xref": "x",
          "y": -1.4816690683364868,
          "yanchor": "middle",
          "yref": "y"
         },
         {
          "opacity": 1,
          "sizex": 1,
          "sizey": 1,
          "source": "imgs\\char_imgs\\petyr-baelish-littlefinger.jpg",
          "x": 1.092948317527771,
          "xanchor": "center",
          "xref": "x",
          "y": -5.112213611602783,
          "yanchor": "middle",
          "yref": "y"
         },
         {
          "opacity": 1,
          "sizex": 1,
          "sizey": 1,
          "source": "imgs\\char_imgs\\alliser-thorne.jpg",
          "x": -2.2246294021606445,
          "xanchor": "center",
          "xref": "x",
          "y": -0.6967365145683289,
          "yanchor": "middle",
          "yref": "y"
         },
         {
          "opacity": 1,
          "sizex": 1,
          "sizey": 1,
          "source": "imgs\\char_imgs\\tyene-sand.jpg",
          "x": -1.0395334959030151,
          "xanchor": "center",
          "xref": "x",
          "y": 4.100358963012695,
          "yanchor": "middle",
          "yref": "y"
         },
         {
          "opacity": 1,
          "sizex": 1,
          "sizey": 1,
          "source": "imgs\\char_imgs\\gilly.jpg",
          "x": -6.716004371643066,
          "xanchor": "center",
          "xref": "x",
          "y": 2.555835247039795,
          "yanchor": "middle",
          "yref": "y"
         },
         {
          "opacity": 1,
          "sizex": 1,
          "sizey": 1,
          "source": "imgs\\char_imgs\\gendry.jpg",
          "x": -5.109919548034668,
          "xanchor": "center",
          "xref": "x",
          "y": 0.9281543493270874,
          "yanchor": "middle",
          "yref": "y"
         },
         {
          "opacity": 1,
          "sizex": 1,
          "sizey": 1,
          "source": "imgs\\char_imgs\\daenerys-targaryen.jpg",
          "x": -2.8110404014587402,
          "xanchor": "center",
          "xref": "x",
          "y": -0.8050118684768677,
          "yanchor": "middle",
          "yref": "y"
         }
        ]
       }
      },
      "text/html": [
       "<div id=\"2c6e2d6d-13f4-4994-8278-1fe2dc5e5ee7\" style=\"height: 525px; width: 100%;\" class=\"plotly-graph-div\"></div><script type=\"text/javascript\">require([\"plotly\"], function(Plotly) { window.PLOTLYENV=window.PLOTLYENV || {};window.PLOTLYENV.BASE_URL=\"https://plot.ly\";Plotly.newPlot(\"2c6e2d6d-13f4-4994-8278-1fe2dc5e5ee7\", [{\"mode\": \"markers\", \"x\": [-7.633727073669434, -2.4242706298828125, 3.8239564895629883, -6.4016218185424805, -0.2708345651626587, -6.484641075134277, -3.8914151191711426, -1.6900444030761719, -2.7607405185699463, -0.7995768189430237, 0.9406121969223022, -7.159946441650391, -1.630205750465393, -4.264538764953613, -3.1377170085906982, -2.2479732036590576, 3.732759714126587, -7.155001640319824, -3.1868221759796143, -2.3393943309783936, -3.3046202659606934, -0.43352219462394714, -5.499881267547607, -1.5016449689865112, -5.885802268981934, -1.04036545753479, 1.2423349618911743, -1.9820226430892944, -1.0579720735549927, -5.2451982498168945, -0.5427255034446716, -5.354154586791992, -4.929896354675293, -2.6061785221099854, 8.54537582397461, 6.598978519439697, -6.721913814544678, 2.0097272396087646, -0.5795312523841858, 2.598963737487793, -6.762399673461914, -1.2721847295761108, -5.002882957458496, 2.3568758964538574, 3.954745292663574, -3.534278392791748, -5.020245552062988, -5.591333866119385, -5.7932820320129395, -3.220519781112671, -3.3965909481048584, -6.482147693634033, -0.4864964187145233, -2.9515271186828613, 1.0505985021591187, 0.47805464267730713, -2.866143226623535, 1.894310712814331, -3.509157180786133, -5.663097381591797, -5.282863140106201, -3.08259654045105, -1.8674840927124023, -3.102238178253174, -0.014065171591937542, -2.94966721534729, -3.610578775405884, -3.8897736072540283, -3.251384973526001, -3.5437560081481934, 2.9504709243774414, 9.024402618408203, -0.813981294631958, -3.605534315109253, -4.410970687866211, -3.1242010593414307, -1.0621812343597412, 3.203162431716919, 10.959015846252441, 1.092948317527771, -2.2246294021606445, -1.0395334959030151, -6.716004371643066, -5.109919548034668, -2.8110404014587402], \"y\": [1.4407685995101929, -0.583654522895813, -4.120924472808838, -5.000395774841309, -2.0124974250793457, -4.898825645446777, -4.695017337799072, -1.862987995147705, -2.1510121822357178, -3.6382839679718018, 0.06042557209730148, -2.911273717880249, -2.7428367137908936, 0.1040303036570549, -1.8764272928237915, 2.801751136779785, 9.89217758178711, -0.9398432374000549, 1.1890807151794434, -0.2143496572971344, 0.20595115423202515, -2.0363872051239014, 2.018028736114502, -0.5742637515068054, 1.614309310913086, 1.072152853012085, -2.803046941757202, 0.28880083560943604, 1.9175076484680176, -2.7698562145233154, 0.147594153881073, -0.37053242325782776, -2.0892348289489746, 0.6522921323776245, 3.4646193981170654, -3.0789804458618164, -0.412014901638031, -1.215152382850647, -1.1381134986877441, -0.5716732740402222, 2.2384755611419678, -0.12869547307491302, -1.2900890111923218, -7.368907451629639, -0.2637479901313782, -1.5158298015594482, 3.64255952835083, 0.6588624119758606, 0.3107645511627197, 6.261818885803223, -0.2070152759552002, 0.8836905360221863, -2.103241205215454, 4.784773826599121, -2.647441864013672, -6.736980438232422, 2.0166985988616943, -2.2532742023468018, 1.1700522899627686, 0.4451220631599426, 1.8655327558517456, 0.8608977198600769, 1.9150402545928955, -0.9922606348991394, -3.4875833988189697, 3.150498628616333, 3.4061827659606934, -0.4465641379356384, -1.0183749198913574, 2.86737060546875, -2.386103391647339, 1.9331265687942505, -1.2513949871063232, -1.1173341274261475, 0.5878309011459351, -0.6337258219718933, -2.8698015213012695, -3.671048164367676, -1.4816690683364868, -5.112213611602783, -0.6967365145683289, 4.100358963012695, 2.555835247039795, 0.9281543493270874, -0.8050118684768677], \"type\": \"scatter\", \"uid\": \"58f57572-d67c-4ec3-b993-0a9183d7a6dc\"}], {\"images\": [{\"opacity\": 1, \"sizex\": 1.0, \"sizey\": 1.0, \"source\": \"imgs\\\\char_imgs\\\\myrcella-baratheon.jpg\", \"x\": -7.633727073669434, \"xanchor\": \"center\", \"xref\": \"x\", \"y\": 1.4407685995101929, \"yanchor\": \"middle\", \"yref\": \"y\"}, {\"opacity\": 1, \"sizex\": 1.0, \"sizey\": 1.0, \"source\": \"imgs\\\\char_imgs\\\\renly-baratheon.jpg\", \"x\": -2.4242706298828125, \"xanchor\": \"center\", \"xref\": \"x\", \"y\": -0.583654522895813, \"yanchor\": \"middle\", \"yref\": \"y\"}, {\"opacity\": 1, \"sizex\": 1.0, \"sizey\": 1.0, \"source\": \"imgs\\\\char_imgs\\\\barristan-selmy.jpg\", \"x\": 3.8239564895629883, \"xanchor\": \"center\", \"xref\": \"x\", \"y\": -4.120924472808838, \"yanchor\": \"middle\", \"yref\": \"y\"}, {\"opacity\": 1, \"sizex\": 1.0, \"sizey\": 1.0, \"source\": \"imgs\\\\char_imgs\\\\orell.jpg\", \"x\": -6.4016218185424805, \"xanchor\": \"center\", \"xref\": \"x\", \"y\": -5.000395774841309, \"yanchor\": \"middle\", \"yref\": \"y\"}, {\"opacity\": 1, \"sizex\": 1.0, \"sizey\": 1.0, \"source\": \"imgs\\\\char_imgs\\\\jorah-mormont.jpg\", \"x\": -0.2708345651626587, \"xanchor\": \"center\", \"xref\": \"x\", \"y\": -2.0124974250793457, \"yanchor\": \"middle\", \"yref\": \"y\"}, {\"opacity\": 1, \"sizex\": 1.0, \"sizey\": 1.0, \"source\": \"imgs\\\\char_imgs\\\\maester-luwin.jpg\", \"x\": -6.484641075134277, \"xanchor\": \"center\", \"xref\": \"x\", \"y\": -4.898825645446777, \"yanchor\": \"middle\", \"yref\": \"y\"}, {\"opacity\": 1, \"sizex\": 1.0, \"sizey\": 1.0, \"source\": \"imgs\\\\char_imgs\\\\grand-maester-pycelle.jpg\", \"x\": -3.8914151191711426, \"xanchor\": \"center\", \"xref\": \"x\", \"y\": -4.695017337799072, \"yanchor\": \"middle\", \"yref\": \"y\"}, {\"opacity\": 1, \"sizex\": 1.0, \"sizey\": 1.0, \"source\": \"imgs\\\\char_imgs\\\\randyll-tarly.jpg\", \"x\": -1.6900444030761719, \"xanchor\": \"center\", \"xref\": \"x\", \"y\": -1.862987995147705, \"yanchor\": \"middle\", \"yref\": \"y\"}, {\"opacity\": 1, \"sizex\": 1.0, \"sizey\": 1.0, \"source\": \"imgs\\\\char_imgs\\\\robb-stark.jpg\", \"x\": -2.7607405185699463, \"xanchor\": \"center\", \"xref\": \"x\", \"y\": -2.1510121822357178, \"yanchor\": \"middle\", \"yref\": \"y\"}, {\"opacity\": 1, \"sizex\": 1.0, \"sizey\": 1.0, \"source\": \"imgs\\\\char_imgs\\\\high-sparrow.jpg\", \"x\": -0.7995768189430237, \"xanchor\": \"center\", \"xref\": \"x\", \"y\": -3.6382839679718018, \"yanchor\": \"middle\", \"yref\": \"y\"}, {\"opacity\": 1, \"sizex\": 1.0, \"sizey\": 1.0, \"source\": \"imgs\\\\char_imgs\\\\jaqen-hghar.jpg\", \"x\": 0.9406121969223022, \"xanchor\": \"center\", \"xref\": \"x\", \"y\": 0.06042557209730148, \"yanchor\": \"middle\", \"yref\": \"y\"}, {\"opacity\": 1, \"sizex\": 1.0, \"sizey\": 1.0, \"source\": \"imgs\\\\char_imgs\\\\beric-dondarrion.jpg\", \"x\": -7.159946441650391, \"xanchor\": \"center\", \"xref\": \"x\", \"y\": -2.911273717880249, \"yanchor\": \"middle\", \"yref\": \"y\"}, {\"opacity\": 1, \"sizex\": 1.0, \"sizey\": 1.0, \"source\": \"imgs\\\\char_imgs\\\\daario-naharis.jpg\", \"x\": -1.630205750465393, \"xanchor\": \"center\", \"xref\": \"x\", \"y\": -2.7428367137908936, \"yanchor\": \"middle\", \"yref\": \"y\"}, {\"opacity\": 1, \"sizex\": 1.0, \"sizey\": 1.0, \"source\": \"imgs\\\\char_imgs\\\\lysa-arryn.jpg\", \"x\": -4.264538764953613, \"xanchor\": \"center\", \"xref\": \"x\", \"y\": 0.1040303036570549, \"yanchor\": \"middle\", \"yref\": \"y\"}, {\"opacity\": 1, \"sizex\": 1.0, \"sizey\": 1.0, \"source\": \"imgs\\\\char_imgs\\\\loras-tyrell.jpg\", \"x\": -3.1377170085906982, \"xanchor\": \"center\", \"xref\": \"x\", \"y\": -1.8764272928237915, \"yanchor\": \"middle\", \"yref\": \"y\"}, {\"opacity\": 1, \"sizex\": 1.0, \"sizey\": 1.0, \"source\": \"imgs\\\\char_imgs\\\\osha.jpg\", \"x\": -2.2479732036590576, \"xanchor\": \"center\", \"xref\": \"x\", \"y\": 2.801751136779785, \"yanchor\": \"middle\", \"yref\": \"y\"}, {\"opacity\": 1, \"sizex\": 1.0, \"sizey\": 1.0, \"source\": \"imgs\\\\char_imgs\\\\khal-drogo.jpg\", \"x\": 3.732759714126587, \"xanchor\": \"center\", \"xref\": \"x\", \"y\": 9.89217758178711, \"yanchor\": \"middle\", \"yref\": \"y\"}, {\"opacity\": 1, \"sizex\": 1.0, \"sizey\": 1.0, \"source\": \"imgs\\\\char_imgs\\\\mance-rayder.jpg\", \"x\": -7.155001640319824, \"xanchor\": \"center\", \"xref\": \"x\", \"y\": -0.9398432374000549, \"yanchor\": \"middle\", \"yref\": \"y\"}, {\"opacity\": 1, \"sizex\": 1.0, \"sizey\": 1.0, \"source\": \"imgs\\\\char_imgs\\\\bran-stark.jpg\", \"x\": -3.1868221759796143, \"xanchor\": \"center\", \"xref\": \"x\", \"y\": 1.1890807151794434, \"yanchor\": \"middle\", \"yref\": \"y\"}, {\"opacity\": 1, \"sizex\": 1.0, \"sizey\": 1.0, \"source\": \"imgs\\\\char_imgs\\\\jon-snow.jpg\", \"x\": -2.3393943309783936, \"xanchor\": \"center\", \"xref\": \"x\", \"y\": -0.2143496572971344, \"yanchor\": \"middle\", \"yref\": \"y\"}, {\"opacity\": 1, \"sizex\": 1.0, \"sizey\": 1.0, \"source\": \"imgs\\\\char_imgs\\\\jaime-lannister.jpg\", \"x\": -3.3046202659606934, \"xanchor\": \"center\", \"xref\": \"x\", \"y\": 0.20595115423202515, \"yanchor\": \"middle\", \"yref\": \"y\"}, {\"opacity\": 1, \"sizex\": 1.0, \"sizey\": 1.0, \"source\": \"imgs\\\\char_imgs\\\\davos-seaworth.jpg\", \"x\": -0.43352219462394714, \"xanchor\": \"center\", \"xref\": \"x\", \"y\": -2.0363872051239014, \"yanchor\": \"middle\", \"yref\": \"y\"}, {\"opacity\": 1, \"sizex\": 1.0, \"sizey\": 1.0, \"source\": \"imgs\\\\char_imgs\\\\thoros-of-myr.jpg\", \"x\": -5.499881267547607, \"xanchor\": \"center\", \"xref\": \"x\", \"y\": 2.018028736114502, \"yanchor\": \"middle\", \"yref\": \"y\"}, {\"opacity\": 1, \"sizex\": 1.0, \"sizey\": 1.0, \"source\": \"imgs\\\\char_imgs\\\\stannis-baratheon.jpg\", \"x\": -1.5016449689865112, \"xanchor\": \"center\", \"xref\": \"x\", \"y\": -0.5742637515068054, \"yanchor\": \"middle\", \"yref\": \"y\"}, {\"opacity\": 1, \"sizex\": 1.0, \"sizey\": 1.0, \"source\": \"imgs\\\\char_imgs\\\\ros.jpg\", \"x\": -5.885802268981934, \"xanchor\": \"center\", \"xref\": \"x\", \"y\": 1.614309310913086, \"yanchor\": \"middle\", \"yref\": \"y\"}, {\"opacity\": 1, \"sizex\": 1.0, \"sizey\": 1.0, \"source\": \"imgs\\\\char_imgs\\\\joffrey-baratheon.jpg\", \"x\": -1.04036545753479, \"xanchor\": \"center\", \"xref\": \"x\", \"y\": 1.072152853012085, \"yanchor\": \"middle\", \"yref\": \"y\"}, {\"opacity\": 1, \"sizex\": 1.0, \"sizey\": 1.0, \"source\": \"imgs\\\\char_imgs\\\\melisandre.jpg\", \"x\": 1.2423349618911743, \"xanchor\": \"center\", \"xref\": \"x\", \"y\": -2.803046941757202, \"yanchor\": \"middle\", \"yref\": \"y\"}, {\"opacity\": 1, \"sizex\": 1.0, \"sizey\": 1.0, \"source\": \"imgs\\\\char_imgs\\\\ramsay-snow.jpg\", \"x\": -1.9820226430892944, \"xanchor\": \"center\", \"xref\": \"x\", \"y\": 0.28880083560943604, \"yanchor\": \"middle\", \"yref\": \"y\"}, {\"opacity\": 1, \"sizex\": 1.0, \"sizey\": 1.0, \"source\": \"imgs\\\\char_imgs\\\\brynden-the-blackfish-tully.jpg\", \"x\": -1.0579720735549927, \"xanchor\": \"center\", \"xref\": \"x\", \"y\": 1.9175076484680176, \"yanchor\": \"middle\", \"yref\": \"y\"}, {\"opacity\": 1, \"sizex\": 1.0, \"sizey\": 1.0, \"source\": \"imgs\\\\char_imgs\\\\obara-sand.jpg\", \"x\": -5.2451982498168945, \"xanchor\": \"center\", \"xref\": \"x\", \"y\": -2.7698562145233154, \"yanchor\": \"middle\", \"yref\": \"y\"}, {\"opacity\": 1, \"sizex\": 1.0, \"sizey\": 1.0, \"source\": \"imgs\\\\char_imgs\\\\jeor-mormont.jpg\", \"x\": -0.5427255034446716, \"xanchor\": \"center\", \"xref\": \"x\", \"y\": 0.147594153881073, \"yanchor\": \"middle\", \"yref\": \"y\"}, {\"opacity\": 1, \"sizex\": 1.0, \"sizey\": 1.0, \"source\": \"imgs\\\\char_imgs\\\\trystane-martell.jpg\", \"x\": -5.354154586791992, \"xanchor\": \"center\", \"xref\": \"x\", \"y\": -0.37053242325782776, \"yanchor\": \"middle\", \"yref\": \"y\"}, {\"opacity\": 1, \"sizex\": 1.0, \"sizey\": 1.0, \"source\": \"imgs\\\\char_imgs\\\\talisa-stark.jpg\", \"x\": -4.929896354675293, \"xanchor\": \"center\", \"xref\": \"x\", \"y\": -2.0892348289489746, \"yanchor\": \"middle\", \"yref\": \"y\"}, {\"opacity\": 1, \"sizex\": 1.0, \"sizey\": 1.0, \"source\": \"imgs\\\\char_imgs\\\\podrick-payne.jpg\", \"x\": -2.6061785221099854, \"xanchor\": \"center\", \"xref\": \"x\", \"y\": 0.6522921323776245, \"yanchor\": \"middle\", \"yref\": \"y\"}, {\"opacity\": 1, \"sizex\": 1.0, \"sizey\": 1.0, \"source\": \"imgs\\\\char_imgs\\\\barristan-selmy.jpg\", \"x\": 8.54537582397461, \"xanchor\": \"center\", \"xref\": \"x\", \"y\": 3.4646193981170654, \"yanchor\": \"middle\", \"yref\": \"y\"}, {\"opacity\": 1, \"sizex\": 1.0, \"sizey\": 1.0, \"source\": \"imgs\\\\char_imgs\\\\brother-ray.jpg\", \"x\": 6.598978519439697, \"xanchor\": \"center\", \"xref\": \"x\", \"y\": -3.0789804458618164, \"yanchor\": \"middle\", \"yref\": \"y\"}, {\"opacity\": 1, \"sizex\": 1.0, \"sizey\": 1.0, \"source\": \"imgs\\\\char_imgs\\\\jon-snow.jpg\", \"x\": -6.721913814544678, \"xanchor\": \"center\", \"xref\": \"x\", \"y\": -0.412014901638031, \"yanchor\": \"middle\", \"yref\": \"y\"}, {\"opacity\": 1, \"sizex\": 1.0, \"sizey\": 1.0, \"source\": \"imgs\\\\char_imgs\\\\alliser-thorne.jpg\", \"x\": 2.0097272396087646, \"xanchor\": \"center\", \"xref\": \"x\", \"y\": -1.215152382850647, \"yanchor\": \"middle\", \"yref\": \"y\"}, {\"opacity\": 1, \"sizex\": 1.0, \"sizey\": 1.0, \"source\": \"imgs\\\\char_imgs\\\\missandei.jpg\", \"x\": -0.5795312523841858, \"xanchor\": \"center\", \"xref\": \"x\", \"y\": -1.1381134986877441, \"yanchor\": \"middle\", \"yref\": \"y\"}, {\"opacity\": 1, \"sizex\": 1.0, \"sizey\": 1.0, \"source\": \"imgs\\\\char_imgs\\\\balon-greyjoy.jpg\", \"x\": 2.598963737487793, \"xanchor\": \"center\", \"xref\": \"x\", \"y\": -0.5716732740402222, \"yanchor\": \"middle\", \"yref\": \"y\"}, {\"opacity\": 1, \"sizex\": 1.0, \"sizey\": 1.0, \"source\": \"imgs\\\\char_imgs\\\\shae.jpg\", \"x\": -6.762399673461914, \"xanchor\": \"center\", \"xref\": \"x\", \"y\": 2.2384755611419678, \"yanchor\": \"middle\", \"yref\": \"y\"}, {\"opacity\": 1, \"sizex\": 1.0, \"sizey\": 1.0, \"source\": \"imgs\\\\char_imgs\\\\eddard-ned-stark.jpg\", \"x\": -1.2721847295761108, \"xanchor\": \"center\", \"xref\": \"x\", \"y\": -0.12869547307491302, \"yanchor\": \"middle\", \"yref\": \"y\"}, {\"opacity\": 1, \"sizex\": 1.0, \"sizey\": 1.0, \"source\": \"imgs\\\\char_imgs\\\\robin-arryn.jpg\", \"x\": -5.002882957458496, \"xanchor\": \"center\", \"xref\": \"x\", \"y\": -1.2900890111923218, \"yanchor\": \"middle\", \"yref\": \"y\"}, {\"opacity\": 1, \"sizex\": 1.0, \"sizey\": 1.0, \"source\": \"imgs\\\\char_imgs\\\\daario-naharis.jpg\", \"x\": 2.3568758964538574, \"xanchor\": \"center\", \"xref\": \"x\", \"y\": -7.368907451629639, \"yanchor\": \"middle\", \"yref\": \"y\"}, {\"opacity\": 1, \"sizex\": 1.0, \"sizey\": 1.0, \"source\": \"imgs\\\\char_imgs\\\\high-priestess.jpg\", \"x\": 3.954745292663574, \"xanchor\": \"center\", \"xref\": \"x\", \"y\": -0.2637479901313782, \"yanchor\": \"middle\", \"yref\": \"y\"}, {\"opacity\": 1, \"sizex\": 1.0, \"sizey\": 1.0, \"source\": \"imgs\\\\char_imgs\\\\olenna-tyrell.jpg\", \"x\": -3.534278392791748, \"xanchor\": \"center\", \"xref\": \"x\", \"y\": -1.5158298015594482, \"yanchor\": \"middle\", \"yref\": \"y\"}, {\"opacity\": 1, \"sizex\": 1.0, \"sizey\": 1.0, \"source\": \"imgs\\\\char_imgs\\\\sandor-clegane-the-hound.jpg\", \"x\": -5.020245552062988, \"xanchor\": \"center\", \"xref\": \"x\", \"y\": 3.64255952835083, \"yanchor\": \"middle\", \"yref\": \"y\"}, {\"opacity\": 1, \"sizex\": 1.0, \"sizey\": 1.0, \"source\": \"imgs\\\\char_imgs\\\\tommen-baratheon.jpg\", \"x\": -5.591333866119385, \"xanchor\": \"center\", \"xref\": \"x\", \"y\": 0.6588624119758606, \"yanchor\": \"middle\", \"yref\": \"y\"}, {\"opacity\": 1, \"sizex\": 1.0, \"sizey\": 1.0, \"source\": \"imgs\\\\char_imgs\\\\robert-baratheon.jpg\", \"x\": -5.7932820320129395, \"xanchor\": \"center\", \"xref\": \"x\", \"y\": 0.3107645511627197, \"yanchor\": \"middle\", \"yref\": \"y\"}, {\"opacity\": 1, \"sizex\": 1.0, \"sizey\": 1.0, \"source\": \"imgs\\\\char_imgs\\\\euron-greyjoy.jpg\", \"x\": -3.220519781112671, \"xanchor\": \"center\", \"xref\": \"x\", \"y\": 6.261818885803223, \"yanchor\": \"middle\", \"yref\": \"y\"}, {\"opacity\": 1, \"sizex\": 1.0, \"sizey\": 1.0, \"source\": \"imgs\\\\char_imgs\\\\theon-greyjoy.jpg\", \"x\": -3.3965909481048584, \"xanchor\": \"center\", \"xref\": \"x\", \"y\": -0.2070152759552002, \"yanchor\": \"middle\", \"yref\": \"y\"}, {\"opacity\": 1, \"sizex\": 1.0, \"sizey\": 1.0, \"source\": \"imgs\\\\char_imgs\\\\viserys-targaryen.jpg\", \"x\": -6.482147693634033, \"xanchor\": \"center\", \"xref\": \"x\", \"y\": 0.8836905360221863, \"yanchor\": \"middle\", \"yref\": \"y\"}, {\"opacity\": 1, \"sizex\": 1.0, \"sizey\": 1.0, \"source\": \"imgs\\\\char_imgs\\\\tywin-lannister.jpg\", \"x\": -0.4864964187145233, \"xanchor\": \"center\", \"xref\": \"x\", \"y\": -2.103241205215454, \"yanchor\": \"middle\", \"yref\": \"y\"}, {\"opacity\": 1, \"sizex\": 1.0, \"sizey\": 1.0, \"source\": \"imgs\\\\char_imgs\\\\rickon-stark.jpg\", \"x\": -2.9515271186828613, \"xanchor\": \"center\", \"xref\": \"x\", \"y\": 4.784773826599121, \"yanchor\": \"middle\", \"yref\": \"y\"}, {\"opacity\": 1, \"sizex\": 1.0, \"sizey\": 1.0, \"source\": \"imgs\\\\char_imgs\\\\roose-bolton.jpg\", \"x\": 1.0505985021591187, \"xanchor\": \"center\", \"xref\": \"x\", \"y\": -2.647441864013672, \"yanchor\": \"middle\", \"yref\": \"y\"}, {\"opacity\": 1, \"sizex\": 1.0, \"sizey\": 1.0, \"source\": \"imgs\\\\char_imgs\\\\maester-aemon.jpg\", \"x\": 0.47805464267730713, \"xanchor\": \"center\", \"xref\": \"x\", \"y\": -6.736980438232422, \"yanchor\": \"middle\", \"yref\": \"y\"}, {\"opacity\": 1, \"sizex\": 1.0, \"sizey\": 1.0, \"source\": \"imgs\\\\char_imgs\\\\yara-greyjoy.jpg\", \"x\": -2.866143226623535, \"xanchor\": \"center\", \"xref\": \"x\", \"y\": 2.0166985988616943, \"yanchor\": \"middle\", \"yref\": \"y\"}, {\"opacity\": 1, \"sizex\": 1.0, \"sizey\": 1.0, \"source\": \"imgs\\\\char_imgs\\\\qyburn.jpg\", \"x\": 1.894310712814331, \"xanchor\": \"center\", \"xref\": \"x\", \"y\": -2.2532742023468018, \"yanchor\": \"middle\", \"yref\": \"y\"}, {\"opacity\": 1, \"sizex\": 1.0, \"sizey\": 1.0, \"source\": \"imgs\\\\char_imgs\\\\arya-stark.jpg\", \"x\": -3.509157180786133, \"xanchor\": \"center\", \"xref\": \"x\", \"y\": 1.1700522899627686, \"yanchor\": \"middle\", \"yref\": \"y\"}, {\"opacity\": 1, \"sizex\": 1.0, \"sizey\": 1.0, \"source\": \"imgs\\\\char_imgs\\\\sansa-stark.jpg\", \"x\": -5.663097381591797, \"xanchor\": \"center\", \"xref\": \"x\", \"y\": 0.4451220631599426, \"yanchor\": \"middle\", \"yref\": \"y\"}, {\"opacity\": 1, \"sizex\": 1.0, \"sizey\": 1.0, \"source\": \"imgs\\\\char_imgs\\\\ellaria-sand.jpg\", \"x\": -5.282863140106201, \"xanchor\": \"center\", \"xref\": \"x\", \"y\": 1.8655327558517456, \"yanchor\": \"middle\", \"yref\": \"y\"}, {\"opacity\": 1, \"sizex\": 1.0, \"sizey\": 1.0, \"source\": \"imgs\\\\char_imgs\\\\benjen-stark.jpg\", \"x\": -3.08259654045105, \"xanchor\": \"center\", \"xref\": \"x\", \"y\": 0.8608977198600769, \"yanchor\": \"middle\", \"yref\": \"y\"}, {\"opacity\": 1, \"sizex\": 1.0, \"sizey\": 1.0, \"source\": \"imgs\\\\char_imgs\\\\lady-crane.jpg\", \"x\": -1.8674840927124023, \"xanchor\": \"center\", \"xref\": \"x\", \"y\": 1.9150402545928955, \"yanchor\": \"middle\", \"yref\": \"y\"}, {\"opacity\": 1, \"sizex\": 1.0, \"sizey\": 1.0, \"source\": \"imgs\\\\char_imgs\\\\tyrion-lannister.jpg\", \"x\": -3.102238178253174, \"xanchor\": \"center\", \"xref\": \"x\", \"y\": -0.9922606348991394, \"yanchor\": \"middle\", \"yref\": \"y\"}, {\"opacity\": 1, \"sizex\": 1.0, \"sizey\": 1.0, \"source\": \"imgs\\\\char_imgs\\\\doran-martell.jpg\", \"x\": -0.014065171591937542, \"xanchor\": \"center\", \"xref\": \"x\", \"y\": -3.4875833988189697, \"yanchor\": \"middle\", \"yref\": \"y\"}, {\"opacity\": 1, \"sizex\": 1.0, \"sizey\": 1.0, \"source\": \"imgs\\\\char_imgs\\\\bronn.jpg\", \"x\": -2.94966721534729, \"xanchor\": \"center\", \"xref\": \"x\", \"y\": 3.150498628616333, \"yanchor\": \"middle\", \"yref\": \"y\"}, {\"opacity\": 1, \"sizex\": 1.0, \"sizey\": 1.0, \"source\": \"imgs\\\\char_imgs\\\\ygritte.jpg\", \"x\": -3.610578775405884, \"xanchor\": \"center\", \"xref\": \"x\", \"y\": 3.4061827659606934, \"yanchor\": \"middle\", \"yref\": \"y\"}, {\"opacity\": 1, \"sizex\": 1.0, \"sizey\": 1.0, \"source\": \"imgs\\\\char_imgs\\\\brienne-of-tarth.jpg\", \"x\": -3.8897736072540283, \"xanchor\": \"center\", \"xref\": \"x\", \"y\": -0.4465641379356384, \"yanchor\": \"middle\", \"yref\": \"y\"}, {\"opacity\": 1, \"sizex\": 1.0, \"sizey\": 1.0, \"source\": \"imgs\\\\char_imgs\\\\catelyn-stark.jpg\", \"x\": -3.251384973526001, \"xanchor\": \"center\", \"xref\": \"x\", \"y\": -1.0183749198913574, \"yanchor\": \"middle\", \"yref\": \"y\"}, {\"opacity\": 1, \"sizex\": 1.0, \"sizey\": 1.0, \"source\": \"imgs\\\\char_imgs\\\\tormund.jpg\", \"x\": -3.5437560081481934, \"xanchor\": \"center\", \"xref\": \"x\", \"y\": 2.86737060546875, \"yanchor\": \"middle\", \"yref\": \"y\"}, {\"opacity\": 1, \"sizex\": 1.0, \"sizey\": 1.0, \"source\": \"imgs\\\\char_imgs\\\\samwell-tarly.jpg\", \"x\": 2.9504709243774414, \"xanchor\": \"center\", \"xref\": \"x\", \"y\": -2.386103391647339, \"yanchor\": \"middle\", \"yref\": \"y\"}, {\"opacity\": 1, \"sizex\": 1.0, \"sizey\": 1.0, \"source\": \"imgs\\\\char_imgs\\\\lancel-lannister.jpg\", \"x\": 9.024402618408203, \"xanchor\": \"center\", \"xref\": \"x\", \"y\": 1.9331265687942505, \"yanchor\": \"middle\", \"yref\": \"y\"}, {\"opacity\": 1, \"sizex\": 1.0, \"sizey\": 1.0, \"source\": \"imgs\\\\char_imgs\\\\grey-worm.jpg\", \"x\": -0.813981294631958, \"xanchor\": \"center\", \"xref\": \"x\", \"y\": -1.2513949871063232, \"yanchor\": \"middle\", \"yref\": \"y\"}, {\"opacity\": 1, \"sizex\": 1.0, \"sizey\": 1.0, \"source\": \"imgs\\\\char_imgs\\\\oberyn-martell.jpg\", \"x\": -3.605534315109253, \"xanchor\": \"center\", \"xref\": \"x\", \"y\": -1.1173341274261475, \"yanchor\": \"middle\", \"yref\": \"y\"}, {\"opacity\": 1, \"sizex\": 1.0, \"sizey\": 1.0, \"source\": \"imgs\\\\char_imgs\\\\margaery-tyrell.jpg\", \"x\": -4.410970687866211, \"xanchor\": \"center\", \"xref\": \"x\", \"y\": 0.5878309011459351, \"yanchor\": \"middle\", \"yref\": \"y\"}, {\"opacity\": 1, \"sizex\": 1.0, \"sizey\": 1.0, \"source\": \"imgs\\\\char_imgs\\\\cersei-lannister.jpg\", \"x\": -3.1242010593414307, \"xanchor\": \"center\", \"xref\": \"x\", \"y\": -0.6337258219718933, \"yanchor\": \"middle\", \"yref\": \"y\"}, {\"opacity\": 1, \"sizex\": 1.0, \"sizey\": 1.0, \"source\": \"imgs\\\\char_imgs\\\\varys.jpg\", \"x\": -1.0621812343597412, \"xanchor\": \"center\", \"xref\": \"x\", \"y\": -2.8698015213012695, \"yanchor\": \"middle\", \"yref\": \"y\"}, {\"opacity\": 1, \"sizex\": 1.0, \"sizey\": 1.0, \"source\": \"imgs\\\\char_imgs\\\\lancel-lannister.jpg\", \"x\": 3.203162431716919, \"xanchor\": \"center\", \"xref\": \"x\", \"y\": -3.671048164367676, \"yanchor\": \"middle\", \"yref\": \"y\"}, {\"opacity\": 1, \"sizex\": 1.0, \"sizey\": 1.0, \"source\": \"imgs\\\\char_imgs\\\\hodor.jpg\", \"x\": 10.959015846252441, \"xanchor\": \"center\", \"xref\": \"x\", \"y\": -1.4816690683364868, \"yanchor\": \"middle\", \"yref\": \"y\"}, {\"opacity\": 1, \"sizex\": 1.0, \"sizey\": 1.0, \"source\": \"imgs\\\\char_imgs\\\\petyr-baelish-littlefinger.jpg\", \"x\": 1.092948317527771, \"xanchor\": \"center\", \"xref\": \"x\", \"y\": -5.112213611602783, \"yanchor\": \"middle\", \"yref\": \"y\"}, {\"opacity\": 1, \"sizex\": 1.0, \"sizey\": 1.0, \"source\": \"imgs\\\\char_imgs\\\\alliser-thorne.jpg\", \"x\": -2.2246294021606445, \"xanchor\": \"center\", \"xref\": \"x\", \"y\": -0.6967365145683289, \"yanchor\": \"middle\", \"yref\": \"y\"}, {\"opacity\": 1, \"sizex\": 1.0, \"sizey\": 1.0, \"source\": \"imgs\\\\char_imgs\\\\tyene-sand.jpg\", \"x\": -1.0395334959030151, \"xanchor\": \"center\", \"xref\": \"x\", \"y\": 4.100358963012695, \"yanchor\": \"middle\", \"yref\": \"y\"}, {\"opacity\": 1, \"sizex\": 1.0, \"sizey\": 1.0, \"source\": \"imgs\\\\char_imgs\\\\gilly.jpg\", \"x\": -6.716004371643066, \"xanchor\": \"center\", \"xref\": \"x\", \"y\": 2.555835247039795, \"yanchor\": \"middle\", \"yref\": \"y\"}, {\"opacity\": 1, \"sizex\": 1.0, \"sizey\": 1.0, \"source\": \"imgs\\\\char_imgs\\\\gendry.jpg\", \"x\": -5.109919548034668, \"xanchor\": \"center\", \"xref\": \"x\", \"y\": 0.9281543493270874, \"yanchor\": \"middle\", \"yref\": \"y\"}, {\"opacity\": 1, \"sizex\": 1.0, \"sizey\": 1.0, \"source\": \"imgs\\\\char_imgs\\\\daenerys-targaryen.jpg\", \"x\": -2.8110404014587402, \"xanchor\": \"center\", \"xref\": \"x\", \"y\": -0.8050118684768677, \"yanchor\": \"middle\", \"yref\": \"y\"}]}, {\"showLink\": false, \"linkText\": \"Export to plot.ly\", \"plotlyServerURL\": \"https://plot.ly\"})});</script><script type=\"text/javascript\">window.addEventListener(\"resize\", function(){window._Plotly.Plots.resize(document.getElementById(\"2c6e2d6d-13f4-4994-8278-1fe2dc5e5ee7\"));});</script>"
      ],
      "text/vnd.plotly.v1+html": [
       "<div id=\"2c6e2d6d-13f4-4994-8278-1fe2dc5e5ee7\" style=\"height: 525px; width: 100%;\" class=\"plotly-graph-div\"></div><script type=\"text/javascript\">require([\"plotly\"], function(Plotly) { window.PLOTLYENV=window.PLOTLYENV || {};window.PLOTLYENV.BASE_URL=\"https://plot.ly\";Plotly.newPlot(\"2c6e2d6d-13f4-4994-8278-1fe2dc5e5ee7\", [{\"mode\": \"markers\", \"x\": [-7.633727073669434, -2.4242706298828125, 3.8239564895629883, -6.4016218185424805, -0.2708345651626587, -6.484641075134277, -3.8914151191711426, -1.6900444030761719, -2.7607405185699463, -0.7995768189430237, 0.9406121969223022, -7.159946441650391, -1.630205750465393, -4.264538764953613, -3.1377170085906982, -2.2479732036590576, 3.732759714126587, -7.155001640319824, -3.1868221759796143, -2.3393943309783936, -3.3046202659606934, -0.43352219462394714, -5.499881267547607, -1.5016449689865112, -5.885802268981934, -1.04036545753479, 1.2423349618911743, -1.9820226430892944, -1.0579720735549927, -5.2451982498168945, -0.5427255034446716, -5.354154586791992, -4.929896354675293, -2.6061785221099854, 8.54537582397461, 6.598978519439697, -6.721913814544678, 2.0097272396087646, -0.5795312523841858, 2.598963737487793, -6.762399673461914, -1.2721847295761108, -5.002882957458496, 2.3568758964538574, 3.954745292663574, -3.534278392791748, -5.020245552062988, -5.591333866119385, -5.7932820320129395, -3.220519781112671, -3.3965909481048584, -6.482147693634033, -0.4864964187145233, -2.9515271186828613, 1.0505985021591187, 0.47805464267730713, -2.866143226623535, 1.894310712814331, -3.509157180786133, -5.663097381591797, -5.282863140106201, -3.08259654045105, -1.8674840927124023, -3.102238178253174, -0.014065171591937542, -2.94966721534729, -3.610578775405884, -3.8897736072540283, -3.251384973526001, -3.5437560081481934, 2.9504709243774414, 9.024402618408203, -0.813981294631958, -3.605534315109253, -4.410970687866211, -3.1242010593414307, -1.0621812343597412, 3.203162431716919, 10.959015846252441, 1.092948317527771, -2.2246294021606445, -1.0395334959030151, -6.716004371643066, -5.109919548034668, -2.8110404014587402], \"y\": [1.4407685995101929, -0.583654522895813, -4.120924472808838, -5.000395774841309, -2.0124974250793457, -4.898825645446777, -4.695017337799072, -1.862987995147705, -2.1510121822357178, -3.6382839679718018, 0.06042557209730148, -2.911273717880249, -2.7428367137908936, 0.1040303036570549, -1.8764272928237915, 2.801751136779785, 9.89217758178711, -0.9398432374000549, 1.1890807151794434, -0.2143496572971344, 0.20595115423202515, -2.0363872051239014, 2.018028736114502, -0.5742637515068054, 1.614309310913086, 1.072152853012085, -2.803046941757202, 0.28880083560943604, 1.9175076484680176, -2.7698562145233154, 0.147594153881073, -0.37053242325782776, -2.0892348289489746, 0.6522921323776245, 3.4646193981170654, -3.0789804458618164, -0.412014901638031, -1.215152382850647, -1.1381134986877441, -0.5716732740402222, 2.2384755611419678, -0.12869547307491302, -1.2900890111923218, -7.368907451629639, -0.2637479901313782, -1.5158298015594482, 3.64255952835083, 0.6588624119758606, 0.3107645511627197, 6.261818885803223, -0.2070152759552002, 0.8836905360221863, -2.103241205215454, 4.784773826599121, -2.647441864013672, -6.736980438232422, 2.0166985988616943, -2.2532742023468018, 1.1700522899627686, 0.4451220631599426, 1.8655327558517456, 0.8608977198600769, 1.9150402545928955, -0.9922606348991394, -3.4875833988189697, 3.150498628616333, 3.4061827659606934, -0.4465641379356384, -1.0183749198913574, 2.86737060546875, -2.386103391647339, 1.9331265687942505, -1.2513949871063232, -1.1173341274261475, 0.5878309011459351, -0.6337258219718933, -2.8698015213012695, -3.671048164367676, -1.4816690683364868, -5.112213611602783, -0.6967365145683289, 4.100358963012695, 2.555835247039795, 0.9281543493270874, -0.8050118684768677], \"type\": \"scatter\", \"uid\": \"58f57572-d67c-4ec3-b993-0a9183d7a6dc\"}], {\"images\": [{\"opacity\": 1, \"sizex\": 1.0, \"sizey\": 1.0, \"source\": \"imgs\\\\char_imgs\\\\myrcella-baratheon.jpg\", \"x\": -7.633727073669434, \"xanchor\": \"center\", \"xref\": \"x\", \"y\": 1.4407685995101929, \"yanchor\": \"middle\", \"yref\": \"y\"}, {\"opacity\": 1, \"sizex\": 1.0, \"sizey\": 1.0, \"source\": \"imgs\\\\char_imgs\\\\renly-baratheon.jpg\", \"x\": -2.4242706298828125, \"xanchor\": \"center\", \"xref\": \"x\", \"y\": -0.583654522895813, \"yanchor\": \"middle\", \"yref\": \"y\"}, {\"opacity\": 1, \"sizex\": 1.0, \"sizey\": 1.0, \"source\": \"imgs\\\\char_imgs\\\\barristan-selmy.jpg\", \"x\": 3.8239564895629883, \"xanchor\": \"center\", \"xref\": \"x\", \"y\": -4.120924472808838, \"yanchor\": \"middle\", \"yref\": \"y\"}, {\"opacity\": 1, \"sizex\": 1.0, \"sizey\": 1.0, \"source\": \"imgs\\\\char_imgs\\\\orell.jpg\", \"x\": -6.4016218185424805, \"xanchor\": \"center\", \"xref\": \"x\", \"y\": -5.000395774841309, \"yanchor\": \"middle\", \"yref\": \"y\"}, {\"opacity\": 1, \"sizex\": 1.0, \"sizey\": 1.0, \"source\": \"imgs\\\\char_imgs\\\\jorah-mormont.jpg\", \"x\": -0.2708345651626587, \"xanchor\": \"center\", \"xref\": \"x\", \"y\": -2.0124974250793457, \"yanchor\": \"middle\", \"yref\": \"y\"}, {\"opacity\": 1, \"sizex\": 1.0, \"sizey\": 1.0, \"source\": \"imgs\\\\char_imgs\\\\maester-luwin.jpg\", \"x\": -6.484641075134277, \"xanchor\": \"center\", \"xref\": \"x\", \"y\": -4.898825645446777, \"yanchor\": \"middle\", \"yref\": \"y\"}, {\"opacity\": 1, \"sizex\": 1.0, \"sizey\": 1.0, \"source\": \"imgs\\\\char_imgs\\\\grand-maester-pycelle.jpg\", \"x\": -3.8914151191711426, \"xanchor\": \"center\", \"xref\": \"x\", \"y\": -4.695017337799072, \"yanchor\": \"middle\", \"yref\": \"y\"}, {\"opacity\": 1, \"sizex\": 1.0, \"sizey\": 1.0, \"source\": \"imgs\\\\char_imgs\\\\randyll-tarly.jpg\", \"x\": -1.6900444030761719, \"xanchor\": \"center\", \"xref\": \"x\", \"y\": -1.862987995147705, \"yanchor\": \"middle\", \"yref\": \"y\"}, {\"opacity\": 1, \"sizex\": 1.0, \"sizey\": 1.0, \"source\": \"imgs\\\\char_imgs\\\\robb-stark.jpg\", \"x\": -2.7607405185699463, \"xanchor\": \"center\", \"xref\": \"x\", \"y\": -2.1510121822357178, \"yanchor\": \"middle\", \"yref\": \"y\"}, {\"opacity\": 1, \"sizex\": 1.0, \"sizey\": 1.0, \"source\": \"imgs\\\\char_imgs\\\\high-sparrow.jpg\", \"x\": -0.7995768189430237, \"xanchor\": \"center\", \"xref\": \"x\", \"y\": -3.6382839679718018, \"yanchor\": \"middle\", \"yref\": \"y\"}, {\"opacity\": 1, \"sizex\": 1.0, \"sizey\": 1.0, \"source\": \"imgs\\\\char_imgs\\\\jaqen-hghar.jpg\", \"x\": 0.9406121969223022, \"xanchor\": \"center\", \"xref\": \"x\", \"y\": 0.06042557209730148, \"yanchor\": \"middle\", \"yref\": \"y\"}, {\"opacity\": 1, \"sizex\": 1.0, \"sizey\": 1.0, \"source\": \"imgs\\\\char_imgs\\\\beric-dondarrion.jpg\", \"x\": -7.159946441650391, \"xanchor\": \"center\", \"xref\": \"x\", \"y\": -2.911273717880249, \"yanchor\": \"middle\", \"yref\": \"y\"}, {\"opacity\": 1, \"sizex\": 1.0, \"sizey\": 1.0, \"source\": \"imgs\\\\char_imgs\\\\daario-naharis.jpg\", \"x\": -1.630205750465393, \"xanchor\": \"center\", \"xref\": \"x\", \"y\": -2.7428367137908936, \"yanchor\": \"middle\", \"yref\": \"y\"}, {\"opacity\": 1, \"sizex\": 1.0, \"sizey\": 1.0, \"source\": \"imgs\\\\char_imgs\\\\lysa-arryn.jpg\", \"x\": -4.264538764953613, \"xanchor\": \"center\", \"xref\": \"x\", \"y\": 0.1040303036570549, \"yanchor\": \"middle\", \"yref\": \"y\"}, {\"opacity\": 1, \"sizex\": 1.0, \"sizey\": 1.0, \"source\": \"imgs\\\\char_imgs\\\\loras-tyrell.jpg\", \"x\": -3.1377170085906982, \"xanchor\": \"center\", \"xref\": \"x\", \"y\": -1.8764272928237915, \"yanchor\": \"middle\", \"yref\": \"y\"}, {\"opacity\": 1, \"sizex\": 1.0, \"sizey\": 1.0, \"source\": \"imgs\\\\char_imgs\\\\osha.jpg\", \"x\": -2.2479732036590576, \"xanchor\": \"center\", \"xref\": \"x\", \"y\": 2.801751136779785, \"yanchor\": \"middle\", \"yref\": \"y\"}, {\"opacity\": 1, \"sizex\": 1.0, \"sizey\": 1.0, \"source\": \"imgs\\\\char_imgs\\\\khal-drogo.jpg\", \"x\": 3.732759714126587, \"xanchor\": \"center\", \"xref\": \"x\", \"y\": 9.89217758178711, \"yanchor\": \"middle\", \"yref\": \"y\"}, {\"opacity\": 1, \"sizex\": 1.0, \"sizey\": 1.0, \"source\": \"imgs\\\\char_imgs\\\\mance-rayder.jpg\", \"x\": -7.155001640319824, \"xanchor\": \"center\", \"xref\": \"x\", \"y\": -0.9398432374000549, \"yanchor\": \"middle\", \"yref\": \"y\"}, {\"opacity\": 1, \"sizex\": 1.0, \"sizey\": 1.0, \"source\": \"imgs\\\\char_imgs\\\\bran-stark.jpg\", \"x\": -3.1868221759796143, \"xanchor\": \"center\", \"xref\": \"x\", \"y\": 1.1890807151794434, \"yanchor\": \"middle\", \"yref\": \"y\"}, {\"opacity\": 1, \"sizex\": 1.0, \"sizey\": 1.0, \"source\": \"imgs\\\\char_imgs\\\\jon-snow.jpg\", \"x\": -2.3393943309783936, \"xanchor\": \"center\", \"xref\": \"x\", \"y\": -0.2143496572971344, \"yanchor\": \"middle\", \"yref\": \"y\"}, {\"opacity\": 1, \"sizex\": 1.0, \"sizey\": 1.0, \"source\": \"imgs\\\\char_imgs\\\\jaime-lannister.jpg\", \"x\": -3.3046202659606934, \"xanchor\": \"center\", \"xref\": \"x\", \"y\": 0.20595115423202515, \"yanchor\": \"middle\", \"yref\": \"y\"}, {\"opacity\": 1, \"sizex\": 1.0, \"sizey\": 1.0, \"source\": \"imgs\\\\char_imgs\\\\davos-seaworth.jpg\", \"x\": -0.43352219462394714, \"xanchor\": \"center\", \"xref\": \"x\", \"y\": -2.0363872051239014, \"yanchor\": \"middle\", \"yref\": \"y\"}, {\"opacity\": 1, \"sizex\": 1.0, \"sizey\": 1.0, \"source\": \"imgs\\\\char_imgs\\\\thoros-of-myr.jpg\", \"x\": -5.499881267547607, \"xanchor\": \"center\", \"xref\": \"x\", \"y\": 2.018028736114502, \"yanchor\": \"middle\", \"yref\": \"y\"}, {\"opacity\": 1, \"sizex\": 1.0, \"sizey\": 1.0, \"source\": \"imgs\\\\char_imgs\\\\stannis-baratheon.jpg\", \"x\": -1.5016449689865112, \"xanchor\": \"center\", \"xref\": \"x\", \"y\": -0.5742637515068054, \"yanchor\": \"middle\", \"yref\": \"y\"}, {\"opacity\": 1, \"sizex\": 1.0, \"sizey\": 1.0, \"source\": \"imgs\\\\char_imgs\\\\ros.jpg\", \"x\": -5.885802268981934, \"xanchor\": \"center\", \"xref\": \"x\", \"y\": 1.614309310913086, \"yanchor\": \"middle\", \"yref\": \"y\"}, {\"opacity\": 1, \"sizex\": 1.0, \"sizey\": 1.0, \"source\": \"imgs\\\\char_imgs\\\\joffrey-baratheon.jpg\", \"x\": -1.04036545753479, \"xanchor\": \"center\", \"xref\": \"x\", \"y\": 1.072152853012085, \"yanchor\": \"middle\", \"yref\": \"y\"}, {\"opacity\": 1, \"sizex\": 1.0, \"sizey\": 1.0, \"source\": \"imgs\\\\char_imgs\\\\melisandre.jpg\", \"x\": 1.2423349618911743, \"xanchor\": \"center\", \"xref\": \"x\", \"y\": -2.803046941757202, \"yanchor\": \"middle\", \"yref\": \"y\"}, {\"opacity\": 1, \"sizex\": 1.0, \"sizey\": 1.0, \"source\": \"imgs\\\\char_imgs\\\\ramsay-snow.jpg\", \"x\": -1.9820226430892944, \"xanchor\": \"center\", \"xref\": \"x\", \"y\": 0.28880083560943604, \"yanchor\": \"middle\", \"yref\": \"y\"}, {\"opacity\": 1, \"sizex\": 1.0, \"sizey\": 1.0, \"source\": \"imgs\\\\char_imgs\\\\brynden-the-blackfish-tully.jpg\", \"x\": -1.0579720735549927, \"xanchor\": \"center\", \"xref\": \"x\", \"y\": 1.9175076484680176, \"yanchor\": \"middle\", \"yref\": \"y\"}, {\"opacity\": 1, \"sizex\": 1.0, \"sizey\": 1.0, \"source\": \"imgs\\\\char_imgs\\\\obara-sand.jpg\", \"x\": -5.2451982498168945, \"xanchor\": \"center\", \"xref\": \"x\", \"y\": -2.7698562145233154, \"yanchor\": \"middle\", \"yref\": \"y\"}, {\"opacity\": 1, \"sizex\": 1.0, \"sizey\": 1.0, \"source\": \"imgs\\\\char_imgs\\\\jeor-mormont.jpg\", \"x\": -0.5427255034446716, \"xanchor\": \"center\", \"xref\": \"x\", \"y\": 0.147594153881073, \"yanchor\": \"middle\", \"yref\": \"y\"}, {\"opacity\": 1, \"sizex\": 1.0, \"sizey\": 1.0, \"source\": \"imgs\\\\char_imgs\\\\trystane-martell.jpg\", \"x\": -5.354154586791992, \"xanchor\": \"center\", \"xref\": \"x\", \"y\": -0.37053242325782776, \"yanchor\": \"middle\", \"yref\": \"y\"}, {\"opacity\": 1, \"sizex\": 1.0, \"sizey\": 1.0, \"source\": \"imgs\\\\char_imgs\\\\talisa-stark.jpg\", \"x\": -4.929896354675293, \"xanchor\": \"center\", \"xref\": \"x\", \"y\": -2.0892348289489746, \"yanchor\": \"middle\", \"yref\": \"y\"}, {\"opacity\": 1, \"sizex\": 1.0, \"sizey\": 1.0, \"source\": \"imgs\\\\char_imgs\\\\podrick-payne.jpg\", \"x\": -2.6061785221099854, \"xanchor\": \"center\", \"xref\": \"x\", \"y\": 0.6522921323776245, \"yanchor\": \"middle\", \"yref\": \"y\"}, {\"opacity\": 1, \"sizex\": 1.0, \"sizey\": 1.0, \"source\": \"imgs\\\\char_imgs\\\\barristan-selmy.jpg\", \"x\": 8.54537582397461, \"xanchor\": \"center\", \"xref\": \"x\", \"y\": 3.4646193981170654, \"yanchor\": \"middle\", \"yref\": \"y\"}, {\"opacity\": 1, \"sizex\": 1.0, \"sizey\": 1.0, \"source\": \"imgs\\\\char_imgs\\\\brother-ray.jpg\", \"x\": 6.598978519439697, \"xanchor\": \"center\", \"xref\": \"x\", \"y\": -3.0789804458618164, \"yanchor\": \"middle\", \"yref\": \"y\"}, {\"opacity\": 1, \"sizex\": 1.0, \"sizey\": 1.0, \"source\": \"imgs\\\\char_imgs\\\\jon-snow.jpg\", \"x\": -6.721913814544678, \"xanchor\": \"center\", \"xref\": \"x\", \"y\": -0.412014901638031, \"yanchor\": \"middle\", \"yref\": \"y\"}, {\"opacity\": 1, \"sizex\": 1.0, \"sizey\": 1.0, \"source\": \"imgs\\\\char_imgs\\\\alliser-thorne.jpg\", \"x\": 2.0097272396087646, \"xanchor\": \"center\", \"xref\": \"x\", \"y\": -1.215152382850647, \"yanchor\": \"middle\", \"yref\": \"y\"}, {\"opacity\": 1, \"sizex\": 1.0, \"sizey\": 1.0, \"source\": \"imgs\\\\char_imgs\\\\missandei.jpg\", \"x\": -0.5795312523841858, \"xanchor\": \"center\", \"xref\": \"x\", \"y\": -1.1381134986877441, \"yanchor\": \"middle\", \"yref\": \"y\"}, {\"opacity\": 1, \"sizex\": 1.0, \"sizey\": 1.0, \"source\": \"imgs\\\\char_imgs\\\\balon-greyjoy.jpg\", \"x\": 2.598963737487793, \"xanchor\": \"center\", \"xref\": \"x\", \"y\": -0.5716732740402222, \"yanchor\": \"middle\", \"yref\": \"y\"}, {\"opacity\": 1, \"sizex\": 1.0, \"sizey\": 1.0, \"source\": \"imgs\\\\char_imgs\\\\shae.jpg\", \"x\": -6.762399673461914, \"xanchor\": \"center\", \"xref\": \"x\", \"y\": 2.2384755611419678, \"yanchor\": \"middle\", \"yref\": \"y\"}, {\"opacity\": 1, \"sizex\": 1.0, \"sizey\": 1.0, \"source\": \"imgs\\\\char_imgs\\\\eddard-ned-stark.jpg\", \"x\": -1.2721847295761108, \"xanchor\": \"center\", \"xref\": \"x\", \"y\": -0.12869547307491302, \"yanchor\": \"middle\", \"yref\": \"y\"}, {\"opacity\": 1, \"sizex\": 1.0, \"sizey\": 1.0, \"source\": \"imgs\\\\char_imgs\\\\robin-arryn.jpg\", \"x\": -5.002882957458496, \"xanchor\": \"center\", \"xref\": \"x\", \"y\": -1.2900890111923218, \"yanchor\": \"middle\", \"yref\": \"y\"}, {\"opacity\": 1, \"sizex\": 1.0, \"sizey\": 1.0, \"source\": \"imgs\\\\char_imgs\\\\daario-naharis.jpg\", \"x\": 2.3568758964538574, \"xanchor\": \"center\", \"xref\": \"x\", \"y\": -7.368907451629639, \"yanchor\": \"middle\", \"yref\": \"y\"}, {\"opacity\": 1, \"sizex\": 1.0, \"sizey\": 1.0, \"source\": \"imgs\\\\char_imgs\\\\high-priestess.jpg\", \"x\": 3.954745292663574, \"xanchor\": \"center\", \"xref\": \"x\", \"y\": -0.2637479901313782, \"yanchor\": \"middle\", \"yref\": \"y\"}, {\"opacity\": 1, \"sizex\": 1.0, \"sizey\": 1.0, \"source\": \"imgs\\\\char_imgs\\\\olenna-tyrell.jpg\", \"x\": -3.534278392791748, \"xanchor\": \"center\", \"xref\": \"x\", \"y\": -1.5158298015594482, \"yanchor\": \"middle\", \"yref\": \"y\"}, {\"opacity\": 1, \"sizex\": 1.0, \"sizey\": 1.0, \"source\": \"imgs\\\\char_imgs\\\\sandor-clegane-the-hound.jpg\", \"x\": -5.020245552062988, \"xanchor\": \"center\", \"xref\": \"x\", \"y\": 3.64255952835083, \"yanchor\": \"middle\", \"yref\": \"y\"}, {\"opacity\": 1, \"sizex\": 1.0, \"sizey\": 1.0, \"source\": \"imgs\\\\char_imgs\\\\tommen-baratheon.jpg\", \"x\": -5.591333866119385, \"xanchor\": \"center\", \"xref\": \"x\", \"y\": 0.6588624119758606, \"yanchor\": \"middle\", \"yref\": \"y\"}, {\"opacity\": 1, \"sizex\": 1.0, \"sizey\": 1.0, \"source\": \"imgs\\\\char_imgs\\\\robert-baratheon.jpg\", \"x\": -5.7932820320129395, \"xanchor\": \"center\", \"xref\": \"x\", \"y\": 0.3107645511627197, \"yanchor\": \"middle\", \"yref\": \"y\"}, {\"opacity\": 1, \"sizex\": 1.0, \"sizey\": 1.0, \"source\": \"imgs\\\\char_imgs\\\\euron-greyjoy.jpg\", \"x\": -3.220519781112671, \"xanchor\": \"center\", \"xref\": \"x\", \"y\": 6.261818885803223, \"yanchor\": \"middle\", \"yref\": \"y\"}, {\"opacity\": 1, \"sizex\": 1.0, \"sizey\": 1.0, \"source\": \"imgs\\\\char_imgs\\\\theon-greyjoy.jpg\", \"x\": -3.3965909481048584, \"xanchor\": \"center\", \"xref\": \"x\", \"y\": -0.2070152759552002, \"yanchor\": \"middle\", \"yref\": \"y\"}, {\"opacity\": 1, \"sizex\": 1.0, \"sizey\": 1.0, \"source\": \"imgs\\\\char_imgs\\\\viserys-targaryen.jpg\", \"x\": -6.482147693634033, \"xanchor\": \"center\", \"xref\": \"x\", \"y\": 0.8836905360221863, \"yanchor\": \"middle\", \"yref\": \"y\"}, {\"opacity\": 1, \"sizex\": 1.0, \"sizey\": 1.0, \"source\": \"imgs\\\\char_imgs\\\\tywin-lannister.jpg\", \"x\": -0.4864964187145233, \"xanchor\": \"center\", \"xref\": \"x\", \"y\": -2.103241205215454, \"yanchor\": \"middle\", \"yref\": \"y\"}, {\"opacity\": 1, \"sizex\": 1.0, \"sizey\": 1.0, \"source\": \"imgs\\\\char_imgs\\\\rickon-stark.jpg\", \"x\": -2.9515271186828613, \"xanchor\": \"center\", \"xref\": \"x\", \"y\": 4.784773826599121, \"yanchor\": \"middle\", \"yref\": \"y\"}, {\"opacity\": 1, \"sizex\": 1.0, \"sizey\": 1.0, \"source\": \"imgs\\\\char_imgs\\\\roose-bolton.jpg\", \"x\": 1.0505985021591187, \"xanchor\": \"center\", \"xref\": \"x\", \"y\": -2.647441864013672, \"yanchor\": \"middle\", \"yref\": \"y\"}, {\"opacity\": 1, \"sizex\": 1.0, \"sizey\": 1.0, \"source\": \"imgs\\\\char_imgs\\\\maester-aemon.jpg\", \"x\": 0.47805464267730713, \"xanchor\": \"center\", \"xref\": \"x\", \"y\": -6.736980438232422, \"yanchor\": \"middle\", \"yref\": \"y\"}, {\"opacity\": 1, \"sizex\": 1.0, \"sizey\": 1.0, \"source\": \"imgs\\\\char_imgs\\\\yara-greyjoy.jpg\", \"x\": -2.866143226623535, \"xanchor\": \"center\", \"xref\": \"x\", \"y\": 2.0166985988616943, \"yanchor\": \"middle\", \"yref\": \"y\"}, {\"opacity\": 1, \"sizex\": 1.0, \"sizey\": 1.0, \"source\": \"imgs\\\\char_imgs\\\\qyburn.jpg\", \"x\": 1.894310712814331, \"xanchor\": \"center\", \"xref\": \"x\", \"y\": -2.2532742023468018, \"yanchor\": \"middle\", \"yref\": \"y\"}, {\"opacity\": 1, \"sizex\": 1.0, \"sizey\": 1.0, \"source\": \"imgs\\\\char_imgs\\\\arya-stark.jpg\", \"x\": -3.509157180786133, \"xanchor\": \"center\", \"xref\": \"x\", \"y\": 1.1700522899627686, \"yanchor\": \"middle\", \"yref\": \"y\"}, {\"opacity\": 1, \"sizex\": 1.0, \"sizey\": 1.0, \"source\": \"imgs\\\\char_imgs\\\\sansa-stark.jpg\", \"x\": -5.663097381591797, \"xanchor\": \"center\", \"xref\": \"x\", \"y\": 0.4451220631599426, \"yanchor\": \"middle\", \"yref\": \"y\"}, {\"opacity\": 1, \"sizex\": 1.0, \"sizey\": 1.0, \"source\": \"imgs\\\\char_imgs\\\\ellaria-sand.jpg\", \"x\": -5.282863140106201, \"xanchor\": \"center\", \"xref\": \"x\", \"y\": 1.8655327558517456, \"yanchor\": \"middle\", \"yref\": \"y\"}, {\"opacity\": 1, \"sizex\": 1.0, \"sizey\": 1.0, \"source\": \"imgs\\\\char_imgs\\\\benjen-stark.jpg\", \"x\": -3.08259654045105, \"xanchor\": \"center\", \"xref\": \"x\", \"y\": 0.8608977198600769, \"yanchor\": \"middle\", \"yref\": \"y\"}, {\"opacity\": 1, \"sizex\": 1.0, \"sizey\": 1.0, \"source\": \"imgs\\\\char_imgs\\\\lady-crane.jpg\", \"x\": -1.8674840927124023, \"xanchor\": \"center\", \"xref\": \"x\", \"y\": 1.9150402545928955, \"yanchor\": \"middle\", \"yref\": \"y\"}, {\"opacity\": 1, \"sizex\": 1.0, \"sizey\": 1.0, \"source\": \"imgs\\\\char_imgs\\\\tyrion-lannister.jpg\", \"x\": -3.102238178253174, \"xanchor\": \"center\", \"xref\": \"x\", \"y\": -0.9922606348991394, \"yanchor\": \"middle\", \"yref\": \"y\"}, {\"opacity\": 1, \"sizex\": 1.0, \"sizey\": 1.0, \"source\": \"imgs\\\\char_imgs\\\\doran-martell.jpg\", \"x\": -0.014065171591937542, \"xanchor\": \"center\", \"xref\": \"x\", \"y\": -3.4875833988189697, \"yanchor\": \"middle\", \"yref\": \"y\"}, {\"opacity\": 1, \"sizex\": 1.0, \"sizey\": 1.0, \"source\": \"imgs\\\\char_imgs\\\\bronn.jpg\", \"x\": -2.94966721534729, \"xanchor\": \"center\", \"xref\": \"x\", \"y\": 3.150498628616333, \"yanchor\": \"middle\", \"yref\": \"y\"}, {\"opacity\": 1, \"sizex\": 1.0, \"sizey\": 1.0, \"source\": \"imgs\\\\char_imgs\\\\ygritte.jpg\", \"x\": -3.610578775405884, \"xanchor\": \"center\", \"xref\": \"x\", \"y\": 3.4061827659606934, \"yanchor\": \"middle\", \"yref\": \"y\"}, {\"opacity\": 1, \"sizex\": 1.0, \"sizey\": 1.0, \"source\": \"imgs\\\\char_imgs\\\\brienne-of-tarth.jpg\", \"x\": -3.8897736072540283, \"xanchor\": \"center\", \"xref\": \"x\", \"y\": -0.4465641379356384, \"yanchor\": \"middle\", \"yref\": \"y\"}, {\"opacity\": 1, \"sizex\": 1.0, \"sizey\": 1.0, \"source\": \"imgs\\\\char_imgs\\\\catelyn-stark.jpg\", \"x\": -3.251384973526001, \"xanchor\": \"center\", \"xref\": \"x\", \"y\": -1.0183749198913574, \"yanchor\": \"middle\", \"yref\": \"y\"}, {\"opacity\": 1, \"sizex\": 1.0, \"sizey\": 1.0, \"source\": \"imgs\\\\char_imgs\\\\tormund.jpg\", \"x\": -3.5437560081481934, \"xanchor\": \"center\", \"xref\": \"x\", \"y\": 2.86737060546875, \"yanchor\": \"middle\", \"yref\": \"y\"}, {\"opacity\": 1, \"sizex\": 1.0, \"sizey\": 1.0, \"source\": \"imgs\\\\char_imgs\\\\samwell-tarly.jpg\", \"x\": 2.9504709243774414, \"xanchor\": \"center\", \"xref\": \"x\", \"y\": -2.386103391647339, \"yanchor\": \"middle\", \"yref\": \"y\"}, {\"opacity\": 1, \"sizex\": 1.0, \"sizey\": 1.0, \"source\": \"imgs\\\\char_imgs\\\\lancel-lannister.jpg\", \"x\": 9.024402618408203, \"xanchor\": \"center\", \"xref\": \"x\", \"y\": 1.9331265687942505, \"yanchor\": \"middle\", \"yref\": \"y\"}, {\"opacity\": 1, \"sizex\": 1.0, \"sizey\": 1.0, \"source\": \"imgs\\\\char_imgs\\\\grey-worm.jpg\", \"x\": -0.813981294631958, \"xanchor\": \"center\", \"xref\": \"x\", \"y\": -1.2513949871063232, \"yanchor\": \"middle\", \"yref\": \"y\"}, {\"opacity\": 1, \"sizex\": 1.0, \"sizey\": 1.0, \"source\": \"imgs\\\\char_imgs\\\\oberyn-martell.jpg\", \"x\": -3.605534315109253, \"xanchor\": \"center\", \"xref\": \"x\", \"y\": -1.1173341274261475, \"yanchor\": \"middle\", \"yref\": \"y\"}, {\"opacity\": 1, \"sizex\": 1.0, \"sizey\": 1.0, \"source\": \"imgs\\\\char_imgs\\\\margaery-tyrell.jpg\", \"x\": -4.410970687866211, \"xanchor\": \"center\", \"xref\": \"x\", \"y\": 0.5878309011459351, \"yanchor\": \"middle\", \"yref\": \"y\"}, {\"opacity\": 1, \"sizex\": 1.0, \"sizey\": 1.0, \"source\": \"imgs\\\\char_imgs\\\\cersei-lannister.jpg\", \"x\": -3.1242010593414307, \"xanchor\": \"center\", \"xref\": \"x\", \"y\": -0.6337258219718933, \"yanchor\": \"middle\", \"yref\": \"y\"}, {\"opacity\": 1, \"sizex\": 1.0, \"sizey\": 1.0, \"source\": \"imgs\\\\char_imgs\\\\varys.jpg\", \"x\": -1.0621812343597412, \"xanchor\": \"center\", \"xref\": \"x\", \"y\": -2.8698015213012695, \"yanchor\": \"middle\", \"yref\": \"y\"}, {\"opacity\": 1, \"sizex\": 1.0, \"sizey\": 1.0, \"source\": \"imgs\\\\char_imgs\\\\lancel-lannister.jpg\", \"x\": 3.203162431716919, \"xanchor\": \"center\", \"xref\": \"x\", \"y\": -3.671048164367676, \"yanchor\": \"middle\", \"yref\": \"y\"}, {\"opacity\": 1, \"sizex\": 1.0, \"sizey\": 1.0, \"source\": \"imgs\\\\char_imgs\\\\hodor.jpg\", \"x\": 10.959015846252441, \"xanchor\": \"center\", \"xref\": \"x\", \"y\": -1.4816690683364868, \"yanchor\": \"middle\", \"yref\": \"y\"}, {\"opacity\": 1, \"sizex\": 1.0, \"sizey\": 1.0, \"source\": \"imgs\\\\char_imgs\\\\petyr-baelish-littlefinger.jpg\", \"x\": 1.092948317527771, \"xanchor\": \"center\", \"xref\": \"x\", \"y\": -5.112213611602783, \"yanchor\": \"middle\", \"yref\": \"y\"}, {\"opacity\": 1, \"sizex\": 1.0, \"sizey\": 1.0, \"source\": \"imgs\\\\char_imgs\\\\alliser-thorne.jpg\", \"x\": -2.2246294021606445, \"xanchor\": \"center\", \"xref\": \"x\", \"y\": -0.6967365145683289, \"yanchor\": \"middle\", \"yref\": \"y\"}, {\"opacity\": 1, \"sizex\": 1.0, \"sizey\": 1.0, \"source\": \"imgs\\\\char_imgs\\\\tyene-sand.jpg\", \"x\": -1.0395334959030151, \"xanchor\": \"center\", \"xref\": \"x\", \"y\": 4.100358963012695, \"yanchor\": \"middle\", \"yref\": \"y\"}, {\"opacity\": 1, \"sizex\": 1.0, \"sizey\": 1.0, \"source\": \"imgs\\\\char_imgs\\\\gilly.jpg\", \"x\": -6.716004371643066, \"xanchor\": \"center\", \"xref\": \"x\", \"y\": 2.555835247039795, \"yanchor\": \"middle\", \"yref\": \"y\"}, {\"opacity\": 1, \"sizex\": 1.0, \"sizey\": 1.0, \"source\": \"imgs\\\\char_imgs\\\\gendry.jpg\", \"x\": -5.109919548034668, \"xanchor\": \"center\", \"xref\": \"x\", \"y\": 0.9281543493270874, \"yanchor\": \"middle\", \"yref\": \"y\"}, {\"opacity\": 1, \"sizex\": 1.0, \"sizey\": 1.0, \"source\": \"imgs\\\\char_imgs\\\\daenerys-targaryen.jpg\", \"x\": -2.8110404014587402, \"xanchor\": \"center\", \"xref\": \"x\", \"y\": -0.8050118684768677, \"yanchor\": \"middle\", \"yref\": \"y\"}]}, {\"showLink\": false, \"linkText\": \"Export to plot.ly\", \"plotlyServerURL\": \"https://plot.ly\"})});</script><script type=\"text/javascript\">window.addEventListener(\"resize\", function(){window._Plotly.Plots.resize(document.getElementById(\"2c6e2d6d-13f4-4994-8278-1fe2dc5e5ee7\"));});</script>"
      ]
     },
     "metadata": {},
     "output_type": "display_data"
    }
   ],
   "source": [
    "import plotly.offline as offline\n",
    "import plotly.graph_objs as go\n",
    "import plotly.io as pio\n",
    "\n",
    "offline.init_notebook_mode(connected=True)\n",
    "\n",
    "trace1= go.Scatter(x=list(df_plot['x']), \n",
    "                   y=list(df_plot['y']), \n",
    "                   mode='markers')\n",
    "layout= go.Layout(images= img_json['images'])\n",
    "fig=go.Figure(data=[trace1],layout=layout)\n",
    "offline.iplot(fig)\n",
    "\n",
    "#pio.write_image(fig, os.path.join('imgs', 'GoT_tsne.jpeg'))"
   ]
  }
 ],
 "metadata": {
  "kernelspec": {
   "display_name": "torch",
   "language": "python",
   "name": "torch"
  },
  "language_info": {
   "codemirror_mode": {
    "name": "ipython",
    "version": 3
   },
   "file_extension": ".py",
   "mimetype": "text/x-python",
   "name": "python",
   "nbconvert_exporter": "python",
   "pygments_lexer": "ipython3",
   "version": "3.7.2"
  }
 },
 "nbformat": 4,
 "nbformat_minor": 2
}
